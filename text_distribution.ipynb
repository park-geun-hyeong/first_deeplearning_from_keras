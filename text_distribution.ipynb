{
  "nbformat": 4,
  "nbformat_minor": 0,
  "metadata": {
    "colab": {
      "name": "text_distribution.ipynb",
      "provenance": [],
      "collapsed_sections": [],
      "authorship_tag": "ABX9TyNAODvQQHlTbRHchbdSCIIq",
      "include_colab_link": true
    },
    "kernelspec": {
      "name": "python3",
      "display_name": "Python 3"
    }
  },
  "cells": [
    {
      "cell_type": "markdown",
      "metadata": {
        "id": "view-in-github",
        "colab_type": "text"
      },
      "source": [
        "<a href=\"https://colab.research.google.com/github/park-geun-hyeong/first_deeplearning_fromkeras/blob/main/text_distribution.ipynb\" target=\"_parent\"><img src=\"https://colab.research.google.com/assets/colab-badge.svg\" alt=\"Open In Colab\"/></a>"
      ]
    },
    {
      "cell_type": "code",
      "metadata": {
        "colab": {
          "base_uri": "https://localhost:8080/"
        },
        "id": "Ta_hThEoHKkh",
        "outputId": "2a72d49f-8ce3-4c7d-f973-c711a2537137"
      },
      "source": [
        "import numpy as np\r\n",
        "import pandas as pd\r\n",
        "import keras \r\n",
        "from keras.datasets import reuters\r\n",
        "from keras.models import Model\r\n",
        "from keras.layers import Input, Dense, Dropout, Activation\r\n",
        "import matplotlib.pyplot as plt\r\n",
        "\r\n",
        "(x_train,y_train),(x_test,y_test)=reuters.load_data(num_words=100,test_split=0.2)\r\n",
        "print(len(x_train))\r\n",
        "print(len(x_test))"
      ],
      "execution_count": 49,
      "outputs": [
        {
          "output_type": "stream",
          "text": [
            "8982\n",
            "2246\n"
          ],
          "name": "stdout"
        },
        {
          "output_type": "stream",
          "text": [
            "/usr/local/lib/python3.6/dist-packages/tensorflow/python/keras/datasets/reuters.py:148: VisibleDeprecationWarning: Creating an ndarray from ragged nested sequences (which is a list-or-tuple of lists-or-tuples-or ndarrays with different lengths or shapes) is deprecated. If you meant to do this, you must specify 'dtype=object' when creating the ndarray\n",
            "  x_train, y_train = np.array(xs[:idx]), np.array(labels[:idx])\n",
            "/usr/local/lib/python3.6/dist-packages/tensorflow/python/keras/datasets/reuters.py:149: VisibleDeprecationWarning: Creating an ndarray from ragged nested sequences (which is a list-or-tuple of lists-or-tuples-or ndarrays with different lengths or shapes) is deprecated. If you meant to do this, you must specify 'dtype=object' when creating the ndarray\n",
            "  x_test, y_test = np.array(xs[idx:]), np.array(labels[idx:])\n"
          ],
          "name": "stderr"
        }
      ]
    },
    {
      "cell_type": "code",
      "metadata": {
        "colab": {
          "base_uri": "https://localhost:8080/"
        },
        "id": "rmc0S0ETHz2r",
        "outputId": "1642b9c2-6463-480b-d45d-4d3e662f285a"
      },
      "source": [
        "print(x_train[0])"
      ],
      "execution_count": 50,
      "outputs": [
        {
          "output_type": "stream",
          "text": [
            "[1, 2, 2, 8, 43, 10, 2, 5, 25, 2, 2, 5, 2, 2, 16, 2, 2, 90, 67, 7, 89, 5, 19, 2, 6, 19, 2, 15, 90, 67, 84, 22, 2, 26, 7, 48, 4, 49, 8, 2, 39, 2, 2, 6, 2, 6, 83, 11, 15, 22, 2, 11, 15, 7, 48, 9, 2, 2, 2, 6, 2, 6, 2, 11, 15, 22, 2, 44, 11, 15, 16, 8, 2, 2, 90, 67, 52, 29, 2, 30, 32, 2, 6, 2, 15, 17, 12]\n"
          ],
          "name": "stdout"
        }
      ]
    },
    {
      "cell_type": "code",
      "metadata": {
        "colab": {
          "base_uri": "https://localhost:8080/"
        },
        "id": "-CZfkwRsIW-D",
        "outputId": "de19b690-6a60-487c-ac9e-ff9c90722acd"
      },
      "source": [
        "reuters_word_idx=reuters.get_word_index()\r\n",
        "print(len(reuters_word_idx))"
      ],
      "execution_count": 51,
      "outputs": [
        {
          "output_type": "stream",
          "text": [
            "30979\n"
          ],
          "name": "stdout"
        }
      ]
    },
    {
      "cell_type": "code",
      "metadata": {
        "colab": {
          "base_uri": "https://localhost:8080/"
        },
        "id": "OHHY6PqGImIS",
        "outputId": "01a4fc84-f4ef-4770-a043-3a6026d6c52d"
      },
      "source": [
        "r_word_idx= dict([(value,key)for(key,value)in reuters_word_idx.items()])\r\n",
        "for i in range(1,6):\r\n",
        "    print(r_word_idx[i])"
      ],
      "execution_count": 52,
      "outputs": [
        {
          "output_type": "stream",
          "text": [
            "the\n",
            "of\n",
            "to\n",
            "in\n",
            "said\n"
          ],
          "name": "stdout"
        }
      ]
    },
    {
      "cell_type": "code",
      "metadata": {
        "colab": {
          "base_uri": "https://localhost:8080/"
        },
        "id": "AimnifRJI99c",
        "outputId": "9ab1e31c-cbc3-4df9-e91c-06153c5f68cb"
      },
      "source": [
        "for key in x_train[0]:\r\n",
        "    print(r_word_idx[key], end=' ')"
      ],
      "execution_count": 53,
      "outputs": [
        {
          "output_type": "stream",
          "text": [
            "the of of mln loss for of said at of of said of of 1 of of april 0 a after said from of and from of 000 april 0 prices its of year a but in this mln of an of of and of and revs vs 000 its of vs 000 a but 3 of of of and of and of vs 000 its of 4 vs 000 1 mln of of april 0 are 2 of will billion of and of 000 pct dlrs "
          ],
          "name": "stdout"
        }
      ]
    },
    {
      "cell_type": "code",
      "metadata": {
        "colab": {
          "base_uri": "https://localhost:8080/"
        },
        "id": "LvS3_pHEJN_M",
        "outputId": "86f4d48d-8ea3-4ede-e585-e8ac6dddab69"
      },
      "source": [
        "from keras.utils.np_utils import to_categorical\r\n",
        "y_train_oh=to_categorical(y_train)\r\n",
        "y_test_oh=to_categorical(y_test)\r\n",
        "\r\n",
        "print(y_train[0])\r\n",
        "print(y_train_oh[0])"
      ],
      "execution_count": 54,
      "outputs": [
        {
          "output_type": "stream",
          "text": [
            "3\n",
            "[0. 0. 0. 1. 0. 0. 0. 0. 0. 0. 0. 0. 0. 0. 0. 0. 0. 0. 0. 0. 0. 0. 0. 0.\n",
            " 0. 0. 0. 0. 0. 0. 0. 0. 0. 0. 0. 0. 0. 0. 0. 0. 0. 0. 0. 0. 0. 0.]\n"
          ],
          "name": "stdout"
        }
      ]
    },
    {
      "cell_type": "code",
      "metadata": {
        "id": "IPavnOfHJlN4"
      },
      "source": [
        "def vectorize_sequence(sequences, dimension=100):\r\n",
        "    results=np.zeros((len(sequences),dimension))\r\n",
        "    for i, sequence in enumerate(sequences):\r\n",
        "        results[i,sequence]=1\r\n",
        "    return results"
      ],
      "execution_count": 55,
      "outputs": []
    },
    {
      "cell_type": "code",
      "metadata": {
        "colab": {
          "base_uri": "https://localhost:8080/"
        },
        "id": "_SXd1-91KF-s",
        "outputId": "d086ab36-85fa-4f65-af3f-1eb9f50e6415"
      },
      "source": [
        "x_train_vec=vectorize_sequence(x_train)\r\n",
        "x_test_vec=vectorize_sequence(x_test)\r\n",
        "\r\n",
        "print(x_train[0])\r\n",
        "print(x_train_vec[0])"
      ],
      "execution_count": 56,
      "outputs": [
        {
          "output_type": "stream",
          "text": [
            "[1, 2, 2, 8, 43, 10, 2, 5, 25, 2, 2, 5, 2, 2, 16, 2, 2, 90, 67, 7, 89, 5, 19, 2, 6, 19, 2, 15, 90, 67, 84, 22, 2, 26, 7, 48, 4, 49, 8, 2, 39, 2, 2, 6, 2, 6, 83, 11, 15, 22, 2, 11, 15, 7, 48, 9, 2, 2, 2, 6, 2, 6, 2, 11, 15, 22, 2, 44, 11, 15, 16, 8, 2, 2, 90, 67, 52, 29, 2, 30, 32, 2, 6, 2, 15, 17, 12]\n",
            "[0. 1. 1. 0. 1. 1. 1. 1. 1. 1. 1. 1. 1. 0. 0. 1. 1. 1. 0. 1. 0. 0. 1. 0.\n",
            " 0. 1. 1. 0. 0. 1. 1. 0. 1. 0. 0. 0. 0. 0. 0. 1. 0. 0. 0. 1. 1. 0. 0. 0.\n",
            " 1. 1. 0. 0. 1. 0. 0. 0. 0. 0. 0. 0. 0. 0. 0. 0. 0. 0. 0. 1. 0. 0. 0. 0.\n",
            " 0. 0. 0. 0. 0. 0. 0. 0. 0. 0. 0. 1. 1. 0. 0. 0. 0. 1. 1. 0. 0. 0. 0. 0.\n",
            " 0. 0. 0. 0.]\n"
          ],
          "name": "stdout"
        }
      ]
    },
    {
      "cell_type": "code",
      "metadata": {
        "id": "QUDrSEr5Kg2W"
      },
      "source": [
        "inputs=Input(shape=(100,))\r\n",
        "outputs=Dense(46,activation='softmax')(inputs)\r\n",
        "\r\n",
        "model_v1=Model(inputs,outputs)\r\n",
        "\r\n",
        "model_v1.compile(loss='categorical_crossentropy',optimizer='rmsprop',metrics=['accuracy'])"
      ],
      "execution_count": 57,
      "outputs": []
    },
    {
      "cell_type": "code",
      "metadata": {
        "colab": {
          "base_uri": "https://localhost:8080/"
        },
        "id": "XZN-sh4mLCI8",
        "outputId": "ba3298de-3ed0-417c-cefc-8954abe2b72c"
      },
      "source": [
        "history=model_v1.fit(x_train_vec, y_train_oh, batch_size=32,epochs=30,verbose=1,validation_split=0.1)"
      ],
      "execution_count": 58,
      "outputs": [
        {
          "output_type": "stream",
          "text": [
            "Epoch 1/30\n",
            "253/253 [==============================] - 1s 2ms/step - loss: 3.0354 - accuracy: 0.2411 - val_loss: 2.0353 - val_accuracy: 0.5017\n",
            "Epoch 2/30\n",
            "253/253 [==============================] - 0s 1ms/step - loss: 1.8303 - accuracy: 0.5534 - val_loss: 1.7652 - val_accuracy: 0.5951\n",
            "Epoch 3/30\n",
            "253/253 [==============================] - 0s 1ms/step - loss: 1.5595 - accuracy: 0.6147 - val_loss: 1.6582 - val_accuracy: 0.6329\n",
            "Epoch 4/30\n",
            "253/253 [==============================] - 0s 1ms/step - loss: 1.4592 - accuracy: 0.6432 - val_loss: 1.5876 - val_accuracy: 0.6407\n",
            "Epoch 5/30\n",
            "253/253 [==============================] - 0s 1ms/step - loss: 1.4011 - accuracy: 0.6617 - val_loss: 1.5544 - val_accuracy: 0.6618\n",
            "Epoch 6/30\n",
            "253/253 [==============================] - 0s 1ms/step - loss: 1.3445 - accuracy: 0.6824 - val_loss: 1.5242 - val_accuracy: 0.6741\n",
            "Epoch 7/30\n",
            "253/253 [==============================] - 0s 1ms/step - loss: 1.2371 - accuracy: 0.7018 - val_loss: 1.5052 - val_accuracy: 0.6741\n",
            "Epoch 8/30\n",
            "253/253 [==============================] - 0s 1ms/step - loss: 1.2151 - accuracy: 0.7131 - val_loss: 1.4918 - val_accuracy: 0.6763\n",
            "Epoch 9/30\n",
            "253/253 [==============================] - 0s 1ms/step - loss: 1.2023 - accuracy: 0.7090 - val_loss: 1.4859 - val_accuracy: 0.6774\n",
            "Epoch 10/30\n",
            "253/253 [==============================] - 0s 1ms/step - loss: 1.1927 - accuracy: 0.7165 - val_loss: 1.4807 - val_accuracy: 0.6796\n",
            "Epoch 11/30\n",
            "253/253 [==============================] - 0s 1ms/step - loss: 1.1567 - accuracy: 0.7233 - val_loss: 1.4774 - val_accuracy: 0.6819\n",
            "Epoch 12/30\n",
            "253/253 [==============================] - 0s 1ms/step - loss: 1.1379 - accuracy: 0.7302 - val_loss: 1.4728 - val_accuracy: 0.6808\n",
            "Epoch 13/30\n",
            "253/253 [==============================] - 1s 2ms/step - loss: 1.1602 - accuracy: 0.7217 - val_loss: 1.4764 - val_accuracy: 0.6819\n",
            "Epoch 14/30\n",
            "253/253 [==============================] - 0s 1ms/step - loss: 1.1471 - accuracy: 0.7231 - val_loss: 1.4774 - val_accuracy: 0.6808\n",
            "Epoch 15/30\n",
            "253/253 [==============================] - 0s 1ms/step - loss: 1.1361 - accuracy: 0.7259 - val_loss: 1.4803 - val_accuracy: 0.6819\n",
            "Epoch 16/30\n",
            "253/253 [==============================] - 0s 1ms/step - loss: 1.1379 - accuracy: 0.7300 - val_loss: 1.4868 - val_accuracy: 0.6796\n",
            "Epoch 17/30\n",
            "253/253 [==============================] - 0s 1ms/step - loss: 1.1046 - accuracy: 0.7347 - val_loss: 1.4872 - val_accuracy: 0.6819\n",
            "Epoch 18/30\n",
            "253/253 [==============================] - 0s 1ms/step - loss: 1.1354 - accuracy: 0.7237 - val_loss: 1.4922 - val_accuracy: 0.6796\n",
            "Epoch 19/30\n",
            "253/253 [==============================] - 0s 1ms/step - loss: 1.0896 - accuracy: 0.7322 - val_loss: 1.4961 - val_accuracy: 0.6796\n",
            "Epoch 20/30\n",
            "253/253 [==============================] - 0s 1ms/step - loss: 1.0636 - accuracy: 0.7373 - val_loss: 1.5006 - val_accuracy: 0.6785\n",
            "Epoch 21/30\n",
            "253/253 [==============================] - 0s 1ms/step - loss: 1.0793 - accuracy: 0.7391 - val_loss: 1.5016 - val_accuracy: 0.6808\n",
            "Epoch 22/30\n",
            "253/253 [==============================] - 0s 1ms/step - loss: 1.0727 - accuracy: 0.7375 - val_loss: 1.5064 - val_accuracy: 0.6796\n",
            "Epoch 23/30\n",
            "253/253 [==============================] - 0s 1ms/step - loss: 1.1255 - accuracy: 0.7258 - val_loss: 1.5115 - val_accuracy: 0.6808\n",
            "Epoch 24/30\n",
            "253/253 [==============================] - 0s 1ms/step - loss: 1.0727 - accuracy: 0.7355 - val_loss: 1.5225 - val_accuracy: 0.6808\n",
            "Epoch 25/30\n",
            "253/253 [==============================] - 0s 1ms/step - loss: 1.0605 - accuracy: 0.7462 - val_loss: 1.5256 - val_accuracy: 0.6796\n",
            "Epoch 26/30\n",
            "253/253 [==============================] - 0s 1ms/step - loss: 1.0364 - accuracy: 0.7441 - val_loss: 1.5255 - val_accuracy: 0.6863\n",
            "Epoch 27/30\n",
            "253/253 [==============================] - 0s 1ms/step - loss: 1.0574 - accuracy: 0.7454 - val_loss: 1.5292 - val_accuracy: 0.6852\n",
            "Epoch 28/30\n",
            "253/253 [==============================] - 0s 1ms/step - loss: 1.0423 - accuracy: 0.7439 - val_loss: 1.5343 - val_accuracy: 0.6830\n",
            "Epoch 29/30\n",
            "253/253 [==============================] - 0s 1ms/step - loss: 1.0529 - accuracy: 0.7387 - val_loss: 1.5324 - val_accuracy: 0.6885\n",
            "Epoch 30/30\n",
            "253/253 [==============================] - 0s 1ms/step - loss: 1.0468 - accuracy: 0.7426 - val_loss: 1.5436 - val_accuracy: 0.6808\n"
          ],
          "name": "stdout"
        }
      ]
    },
    {
      "cell_type": "code",
      "metadata": {
        "colab": {
          "base_uri": "https://localhost:8080/",
          "height": 504
        },
        "id": "SYGexNd2LTLa",
        "outputId": "c48e843f-a66e-40d4-c905-61692f2a85d9"
      },
      "source": [
        "plt.figure(figsize=(7,7),dpi=80, facecolor='w',edgecolor='k')\r\n",
        "plt.plot(history.history['accuracy'],'-',linewidth=2)\r\n",
        "\r\n",
        "plt.plot(history.history['val_accuracy'],'-.',linewidth=2)\r\n",
        "plt.title('model accuracy')\r\n",
        "plt.xlabel(\"epoch\")\r\n",
        "plt.ylabel('acc')\r\n",
        "plt.legend(['train','test'],loc='upper left')\r\n",
        "plt.show()"
      ],
      "execution_count": 59,
      "outputs": [
        {
          "output_type": "display_data",
          "data": {
            "image/png": "[encoded data removed]",
            "text/plain": [
              "<Figure size 560x560 with 1 Axes>"
            ]
          },
          "metadata": {
            "tags": []
          }
        }
      ]
    },
    {
      "cell_type": "code",
      "metadata": {
        "colab": {
          "base_uri": "https://localhost:8080/",
          "height": 504
        },
        "id": "eqkC-IKrL38z",
        "outputId": "997d962b-7c1a-4334-c419-14db7f6c8f8e"
      },
      "source": [
        "plt.figure(figsize=(7,7),dpi=80, facecolor='w',edgecolor='k')\r\n",
        "plt.plot(history.history['loss'],'-',linewidth=2)\r\n",
        "\r\n",
        "plt.plot(history.history['val_loss'],'-.',linewidth=2)\r\n",
        "plt.title('model loss')\r\n",
        "plt.xlabel(\"epoch\")\r\n",
        "plt.ylabel('loss')\r\n",
        "plt.legend(['train','test'],loc='upper left')\r\n",
        "plt.show()   #4번째 epoch 부터는 train data에 대해서만 성능이 좋아지고 validation data에대해서는 성능이 낮아지거나 그대로다.즉 과적합 상태이다. 그러므로 epoch를 4로 하는것이 좋다."
      ],
      "execution_count": 60,
      "outputs": [
        {
          "output_type": "display_data",
          "data": {
            "image/png": "[encoded data removed]",
            "text/plain": [
              "<Figure size 560x560 with 1 Axes>"
            ]
          },
          "metadata": {
            "tags": []
          }
        }
      ]
    },
    {
      "cell_type": "code",
      "metadata": {
        "colab": {
          "base_uri": "https://localhost:8080/"
        },
        "id": "tH-pyVseNCuM",
        "outputId": "5aebc7f0-795b-4069-c8c5-bd330a3eb3f4"
      },
      "source": [
        "score=model_v1.evaluate(x_test_vec,y_test_oh,batch_size=32,verbose=1)\r\n",
        "print('test score:',np.round(score[0],3))\r\n",
        "print('test accuracy:',np.round(score[1],3))"
      ],
      "execution_count": 61,
      "outputs": [
        {
          "output_type": "stream",
          "text": [
            "71/71 [==============================] - 0s 926us/step - loss: 1.4936 - accuracy: 0.6799\n",
            "test score: 1.494\n",
            "test accuracy: 0.68\n"
          ],
          "name": "stdout"
        }
      ]
    },
    {
      "cell_type": "code",
      "metadata": {
        "id": "9NVj1shENn-r"
      },
      "source": [
        "def get_model(input_shape):\r\n",
        "    inputs=Input(shape=(input_shape,))\r\n",
        "    hidden1=Dense(256,activation='relu')(inputs)\r\n",
        "    dropout=Dropout(0.5)(hidden1)\r\n",
        "    outputs=Dense(46,activation='softmax')(dropout)\r\n",
        "    \r\n",
        "    model=Model(inputs,outputs)\r\n",
        "    return model\r\n"
      ],
      "execution_count": 62,
      "outputs": []
    },
    {
      "cell_type": "code",
      "metadata": {
        "colab": {
          "base_uri": "https://localhost:8080/"
        },
        "id": "Rfz0WePmOg2Y",
        "outputId": "e6ffebc3-3a9a-4e1f-b97c-45442a7b1fba"
      },
      "source": [
        "model_v2=get_model(100)\r\n",
        "model_v2.compile(loss='categorical_crossentropy',optimizer='adam',metrics=['accuracy'])\r\n",
        "history_2=model_v2.fit(x_train_vec,y_train_oh, batch_size=32, epochs=30,verbose=1,validation_split=0.2)"
      ],
      "execution_count": 63,
      "outputs": [
        {
          "output_type": "stream",
          "text": [
            "Epoch 1/30\n",
            "225/225 [==============================] - 1s 3ms/step - loss: 2.3775 - accuracy: 0.4456 - val_loss: 1.5054 - val_accuracy: 0.6566\n",
            "Epoch 2/30\n",
            "225/225 [==============================] - 0s 2ms/step - loss: 1.5340 - accuracy: 0.6265 - val_loss: 1.3649 - val_accuracy: 0.6767\n",
            "Epoch 3/30\n",
            "225/225 [==============================] - 0s 2ms/step - loss: 1.4031 - accuracy: 0.6521 - val_loss: 1.3014 - val_accuracy: 0.6873\n",
            "Epoch 4/30\n",
            "225/225 [==============================] - 0s 2ms/step - loss: 1.2702 - accuracy: 0.6788 - val_loss: 1.2746 - val_accuracy: 0.6873\n",
            "Epoch 5/30\n",
            "225/225 [==============================] - 0s 2ms/step - loss: 1.2351 - accuracy: 0.6774 - val_loss: 1.2428 - val_accuracy: 0.6956\n",
            "Epoch 6/30\n",
            "225/225 [==============================] - 0s 2ms/step - loss: 1.1894 - accuracy: 0.6949 - val_loss: 1.2272 - val_accuracy: 0.7034\n",
            "Epoch 7/30\n",
            "225/225 [==============================] - 0s 2ms/step - loss: 1.1080 - accuracy: 0.7081 - val_loss: 1.2251 - val_accuracy: 0.6978\n",
            "Epoch 8/30\n",
            "225/225 [==============================] - 0s 2ms/step - loss: 1.1227 - accuracy: 0.7091 - val_loss: 1.1987 - val_accuracy: 0.7040\n",
            "Epoch 9/30\n",
            "225/225 [==============================] - 0s 2ms/step - loss: 1.0919 - accuracy: 0.7184 - val_loss: 1.1944 - val_accuracy: 0.7040\n",
            "Epoch 10/30\n",
            "225/225 [==============================] - 0s 2ms/step - loss: 1.0513 - accuracy: 0.7274 - val_loss: 1.1979 - val_accuracy: 0.7034\n",
            "Epoch 11/30\n",
            "225/225 [==============================] - 0s 2ms/step - loss: 1.0106 - accuracy: 0.7344 - val_loss: 1.1911 - val_accuracy: 0.7023\n",
            "Epoch 12/30\n",
            "225/225 [==============================] - 0s 2ms/step - loss: 1.0149 - accuracy: 0.7415 - val_loss: 1.1910 - val_accuracy: 0.7040\n",
            "Epoch 13/30\n",
            "225/225 [==============================] - 0s 2ms/step - loss: 0.9657 - accuracy: 0.7449 - val_loss: 1.1877 - val_accuracy: 0.7045\n",
            "Epoch 14/30\n",
            "225/225 [==============================] - 0s 2ms/step - loss: 0.9595 - accuracy: 0.7484 - val_loss: 1.1972 - val_accuracy: 0.7040\n",
            "Epoch 15/30\n",
            "225/225 [==============================] - 0s 2ms/step - loss: 0.9536 - accuracy: 0.7422 - val_loss: 1.1937 - val_accuracy: 0.7051\n",
            "Epoch 16/30\n",
            "225/225 [==============================] - 0s 2ms/step - loss: 0.9261 - accuracy: 0.7472 - val_loss: 1.1930 - val_accuracy: 0.7062\n",
            "Epoch 17/30\n",
            "225/225 [==============================] - 0s 2ms/step - loss: 0.9101 - accuracy: 0.7547 - val_loss: 1.1968 - val_accuracy: 0.7084\n",
            "Epoch 18/30\n",
            "225/225 [==============================] - 0s 2ms/step - loss: 0.9243 - accuracy: 0.7512 - val_loss: 1.1923 - val_accuracy: 0.7090\n",
            "Epoch 19/30\n",
            "225/225 [==============================] - 0s 2ms/step - loss: 0.8727 - accuracy: 0.7555 - val_loss: 1.2031 - val_accuracy: 0.7095\n",
            "Epoch 20/30\n",
            "225/225 [==============================] - 0s 2ms/step - loss: 0.8514 - accuracy: 0.7634 - val_loss: 1.1888 - val_accuracy: 0.7112\n",
            "Epoch 21/30\n",
            "225/225 [==============================] - 0s 2ms/step - loss: 0.8213 - accuracy: 0.7694 - val_loss: 1.2063 - val_accuracy: 0.7062\n",
            "Epoch 22/30\n",
            "225/225 [==============================] - 0s 2ms/step - loss: 0.8048 - accuracy: 0.7743 - val_loss: 1.1994 - val_accuracy: 0.7056\n",
            "Epoch 23/30\n",
            "225/225 [==============================] - 1s 3ms/step - loss: 0.8096 - accuracy: 0.7697 - val_loss: 1.1999 - val_accuracy: 0.7112\n",
            "Epoch 24/30\n",
            "225/225 [==============================] - 0s 2ms/step - loss: 0.7987 - accuracy: 0.7799 - val_loss: 1.2094 - val_accuracy: 0.7145\n",
            "Epoch 25/30\n",
            "225/225 [==============================] - 0s 2ms/step - loss: 0.8053 - accuracy: 0.7705 - val_loss: 1.2128 - val_accuracy: 0.7101\n",
            "Epoch 26/30\n",
            "225/225 [==============================] - 0s 2ms/step - loss: 0.7802 - accuracy: 0.7861 - val_loss: 1.2180 - val_accuracy: 0.7040\n",
            "Epoch 27/30\n",
            "225/225 [==============================] - 0s 2ms/step - loss: 0.7467 - accuracy: 0.7935 - val_loss: 1.2407 - val_accuracy: 0.7062\n",
            "Epoch 28/30\n",
            "225/225 [==============================] - 0s 2ms/step - loss: 0.7517 - accuracy: 0.7877 - val_loss: 1.2322 - val_accuracy: 0.7073\n",
            "Epoch 29/30\n",
            "225/225 [==============================] - 0s 2ms/step - loss: 0.7090 - accuracy: 0.7957 - val_loss: 1.2374 - val_accuracy: 0.7067\n",
            "Epoch 30/30\n",
            "225/225 [==============================] - 0s 2ms/step - loss: 0.7321 - accuracy: 0.7840 - val_loss: 1.2399 - val_accuracy: 0.7123\n"
          ],
          "name": "stdout"
        }
      ]
    },
    {
      "cell_type": "code",
      "metadata": {
        "colab": {
          "base_uri": "https://localhost:8080/",
          "height": 521
        },
        "id": "bG3Uwl5wO6DF",
        "outputId": "8ac0d6b9-d1ca-444b-915a-2ef7d9007adf"
      },
      "source": [
        "plt.figure(figsize=(7,7),dpi=80,facecolor='w',edgecolor='k')\r\n",
        "plt.plot(history_2.history['accuracy'],'-',color='r')\r\n",
        "plt.plot(history_2.history['val_accuracy'],'-.',color='b')\r\n",
        "plt.legend(['train','test'],loc='upper left')\r\n",
        "plt.title(\"model acc\")\r\n",
        "plt.xlabel('epoch')\r\n",
        "plt.ylabel('acc')"
      ],
      "execution_count": 64,
      "outputs": [
        {
          "output_type": "execute_result",
          "data": {
            "text/plain": [
              "Text(0, 0.5, 'acc')"
            ]
          },
          "metadata": {
            "tags": []
          },
          "execution_count": 64
        },
        {
          "output_type": "display_data",
          "data": {
            "image/png": "[encoded data removed]",
            "text/plain": [
              "<Figure size 560x560 with 1 Axes>"
            ]
          },
          "metadata": {
            "tags": []
          }
        }
      ]
    },
    {
      "cell_type": "code",
      "metadata": {
        "colab": {
          "base_uri": "https://localhost:8080/",
          "height": 521
        },
        "id": "owPYBdYrPIkh",
        "outputId": "e91a027c-b583-47f2-a5df-c2810348237b"
      },
      "source": [
        "plt.figure(figsize=(7,7),dpi=80,facecolor='w',edgecolor='k')\r\n",
        "plt.plot(history_2.history['loss'],'-',color='r')\r\n",
        "plt.plot(history_2.history['val_loss'],'-.',color='b')\r\n",
        "plt.legend(['train','test'],loc='upper left')\r\n",
        "plt.title(\"model loss\")\r\n",
        "plt.xlabel('epoch')\r\n",
        "plt.ylabel('loss')"
      ],
      "execution_count": 65,
      "outputs": [
        {
          "output_type": "execute_result",
          "data": {
            "text/plain": [
              "Text(0, 0.5, 'loss')"
            ]
          },
          "metadata": {
            "tags": []
          },
          "execution_count": 65
        },
        {
          "output_type": "display_data",
          "data": {
            "image/png": "[encoded data removed]",
            "text/plain": [
              "<Figure size 560x560 with 1 Axes>"
            ]
          },
          "metadata": {
            "tags": []
          }
        }
      ]
    },
    {
      "cell_type": "code",
      "metadata": {
        "colab": {
          "base_uri": "https://localhost:8080/"
        },
        "id": "4FI9LXMgPw2d",
        "outputId": "4fca68da-7ec2-4012-edb2-73ba464480d5"
      },
      "source": [
        "score2=model_v2.evaluate(x_test_vec,y_test_oh,batch_size=32,verbose=1)\r\n",
        "print('test score:',np.round(score2[0],3))\r\n",
        "print('test accuracy:',np.round(score2[1],3))"
      ],
      "execution_count": 66,
      "outputs": [
        {
          "output_type": "stream",
          "text": [
            "71/71 [==============================] - 0s 986us/step - loss: 1.3122 - accuracy: 0.6946\n",
            "test score: 1.312\n",
            "test accuracy: 0.695\n"
          ],
          "name": "stdout"
        }
      ]
    },
    {
      "cell_type": "code",
      "metadata": {
        "colab": {
          "base_uri": "https://localhost:8080/"
        },
        "id": "BDj8lezXQJZv",
        "outputId": "eec74f27-dfa5-4d01-d953-562f2efd8a10"
      },
      "source": [
        "(x_train,y_train),(x_test,y_test)=reuters.load_data(num_words=10000, test_split=0.2)\r\n",
        "\r\n",
        "y_train_oh=to_categorical(y_train)\r\n",
        "y_test_oh=to_categorical(y_test)\r\n",
        "\r\n",
        "x_train_vec=vectorize_sequence(x_train,dimension=10000)\r\n",
        "x_test_vec=vectorize_sequence(x_test,dimension=10000)\r\n",
        "\r\n",
        "model=get_model(10000)\r\n",
        "model.compile(loss='categorical_crossentropy',optimizer='adam',metrics=['accuracy'])\r\n",
        "model.summary()"
      ],
      "execution_count": 67,
      "outputs": [
        {
          "output_type": "stream",
          "text": [
            "/usr/local/lib/python3.6/dist-packages/tensorflow/python/keras/datasets/reuters.py:148: VisibleDeprecationWarning: Creating an ndarray from ragged nested sequences (which is a list-or-tuple of lists-or-tuples-or ndarrays with different lengths or shapes) is deprecated. If you meant to do this, you must specify 'dtype=object' when creating the ndarray\n",
            "  x_train, y_train = np.array(xs[:idx]), np.array(labels[:idx])\n",
            "/usr/local/lib/python3.6/dist-packages/tensorflow/python/keras/datasets/reuters.py:149: VisibleDeprecationWarning: Creating an ndarray from ragged nested sequences (which is a list-or-tuple of lists-or-tuples-or ndarrays with different lengths or shapes) is deprecated. If you meant to do this, you must specify 'dtype=object' when creating the ndarray\n",
            "  x_test, y_test = np.array(xs[idx:]), np.array(labels[idx:])\n"
          ],
          "name": "stderr"
        },
        {
          "output_type": "stream",
          "text": [
            "Model: \"model_7\"\n",
            "_________________________________________________________________\n",
            "Layer (type)                 Output Shape              Param #   \n",
            "=================================================================\n",
            "input_8 (InputLayer)         [(None, 10000)]           0         \n",
            "_________________________________________________________________\n",
            "dense_11 (Dense)             (None, 256)               2560256   \n",
            "_________________________________________________________________\n",
            "dropout_4 (Dropout)          (None, 256)               0         \n",
            "_________________________________________________________________\n",
            "dense_12 (Dense)             (None, 46)                11822     \n",
            "=================================================================\n",
            "Total params: 2,572,078\n",
            "Trainable params: 2,572,078\n",
            "Non-trainable params: 0\n",
            "_________________________________________________________________\n"
          ],
          "name": "stdout"
        }
      ]
    },
    {
      "cell_type": "code",
      "metadata": {
        "colab": {
          "base_uri": "https://localhost:8080/"
        },
        "id": "kPYGFUxQRc1U",
        "outputId": "c9516b98-1b71-4ff4-8a4c-33241c1af2b2"
      },
      "source": [
        "history3=model.fit(x_train_vec,y_train_oh, batch_size=32,epochs=30,verbose=1,validation_split=0.1)\r\n"
      ],
      "execution_count": 68,
      "outputs": [
        {
          "output_type": "stream",
          "text": [
            "Epoch 1/30\n",
            "253/253 [==============================] - 5s 18ms/step - loss: 1.9191 - accuracy: 0.5895 - val_loss: 1.0100 - val_accuracy: 0.7820\n",
            "Epoch 2/30\n",
            "253/253 [==============================] - 5s 19ms/step - loss: 0.6154 - accuracy: 0.8675 - val_loss: 0.8833 - val_accuracy: 0.8020\n",
            "Epoch 3/30\n",
            "253/253 [==============================] - 5s 19ms/step - loss: 0.3462 - accuracy: 0.9207 - val_loss: 0.8765 - val_accuracy: 0.8176\n",
            "Epoch 4/30\n",
            "253/253 [==============================] - 5s 19ms/step - loss: 0.2199 - accuracy: 0.9508 - val_loss: 0.9240 - val_accuracy: 0.8076\n",
            "Epoch 5/30\n",
            "253/253 [==============================] - 4s 18ms/step - loss: 0.1962 - accuracy: 0.9543 - val_loss: 0.9202 - val_accuracy: 0.8087\n",
            "Epoch 6/30\n",
            "253/253 [==============================] - 5s 18ms/step - loss: 0.1873 - accuracy: 0.9524 - val_loss: 0.9775 - val_accuracy: 0.8187\n",
            "Epoch 7/30\n",
            "253/253 [==============================] - 4s 18ms/step - loss: 0.1655 - accuracy: 0.9583 - val_loss: 1.0186 - val_accuracy: 0.8009\n",
            "Epoch 8/30\n",
            "253/253 [==============================] - 5s 18ms/step - loss: 0.1529 - accuracy: 0.9592 - val_loss: 1.0351 - val_accuracy: 0.8109\n",
            "Epoch 9/30\n",
            "253/253 [==============================] - 4s 17ms/step - loss: 0.1355 - accuracy: 0.9636 - val_loss: 1.0793 - val_accuracy: 0.8031\n",
            "Epoch 10/30\n",
            "253/253 [==============================] - 4s 18ms/step - loss: 0.1387 - accuracy: 0.9595 - val_loss: 1.0524 - val_accuracy: 0.8076\n",
            "Epoch 11/30\n",
            "253/253 [==============================] - 5s 19ms/step - loss: 0.1495 - accuracy: 0.9628 - val_loss: 1.0666 - val_accuracy: 0.8109\n",
            "Epoch 12/30\n",
            "253/253 [==============================] - 5s 18ms/step - loss: 0.1293 - accuracy: 0.9627 - val_loss: 1.0818 - val_accuracy: 0.8042\n",
            "Epoch 13/30\n",
            "253/253 [==============================] - 5s 20ms/step - loss: 0.1278 - accuracy: 0.9636 - val_loss: 1.1399 - val_accuracy: 0.7998\n",
            "Epoch 14/30\n",
            "253/253 [==============================] - 4s 18ms/step - loss: 0.1328 - accuracy: 0.9598 - val_loss: 1.1201 - val_accuracy: 0.8042\n",
            "Epoch 15/30\n",
            "253/253 [==============================] - 5s 18ms/step - loss: 0.1195 - accuracy: 0.9649 - val_loss: 1.1835 - val_accuracy: 0.8065\n",
            "Epoch 16/30\n",
            "253/253 [==============================] - 4s 18ms/step - loss: 0.1182 - accuracy: 0.9645 - val_loss: 1.1722 - val_accuracy: 0.7976\n",
            "Epoch 17/30\n",
            "253/253 [==============================] - 5s 18ms/step - loss: 0.1292 - accuracy: 0.9624 - val_loss: 1.2250 - val_accuracy: 0.7987\n",
            "Epoch 18/30\n",
            "253/253 [==============================] - 4s 18ms/step - loss: 0.1221 - accuracy: 0.9636 - val_loss: 1.2514 - val_accuracy: 0.7964\n",
            "Epoch 19/30\n",
            "253/253 [==============================] - 5s 18ms/step - loss: 0.1058 - accuracy: 0.9671 - val_loss: 1.2802 - val_accuracy: 0.7942\n",
            "Epoch 20/30\n",
            "253/253 [==============================] - 4s 18ms/step - loss: 0.0982 - accuracy: 0.9674 - val_loss: 1.2967 - val_accuracy: 0.7987\n",
            "Epoch 21/30\n",
            "253/253 [==============================] - 4s 18ms/step - loss: 0.1222 - accuracy: 0.9630 - val_loss: 1.2956 - val_accuracy: 0.8020\n",
            "Epoch 22/30\n",
            "253/253 [==============================] - 4s 18ms/step - loss: 0.1135 - accuracy: 0.9651 - val_loss: 1.2491 - val_accuracy: 0.8098\n",
            "Epoch 23/30\n",
            "253/253 [==============================] - 4s 18ms/step - loss: 0.1106 - accuracy: 0.9681 - val_loss: 1.3007 - val_accuracy: 0.7998\n",
            "Epoch 24/30\n",
            "253/253 [==============================] - 4s 18ms/step - loss: 0.1020 - accuracy: 0.9701 - val_loss: 1.2900 - val_accuracy: 0.8020\n",
            "Epoch 25/30\n",
            "253/253 [==============================] - 4s 18ms/step - loss: 0.1028 - accuracy: 0.9648 - val_loss: 1.3591 - val_accuracy: 0.7931\n",
            "Epoch 26/30\n",
            "253/253 [==============================] - 5s 18ms/step - loss: 0.0942 - accuracy: 0.9663 - val_loss: 1.3376 - val_accuracy: 0.8009\n",
            "Epoch 27/30\n",
            "253/253 [==============================] - 5s 19ms/step - loss: 0.0934 - accuracy: 0.9687 - val_loss: 1.3806 - val_accuracy: 0.8042\n",
            "Epoch 28/30\n",
            "253/253 [==============================] - 5s 18ms/step - loss: 0.1114 - accuracy: 0.9635 - val_loss: 1.4503 - val_accuracy: 0.7987\n",
            "Epoch 29/30\n",
            "253/253 [==============================] - 4s 18ms/step - loss: 0.1129 - accuracy: 0.9638 - val_loss: 1.4270 - val_accuracy: 0.7953\n",
            "Epoch 30/30\n",
            "253/253 [==============================] - 4s 18ms/step - loss: 0.0921 - accuracy: 0.9670 - val_loss: 1.4207 - val_accuracy: 0.8020\n"
          ],
          "name": "stdout"
        }
      ]
    },
    {
      "cell_type": "code",
      "metadata": {
        "colab": {
          "base_uri": "https://localhost:8080/"
        },
        "id": "-khXzXpvR-4Y",
        "outputId": "fc5e77ee-ee40-49b8-e225-721d55e1356b"
      },
      "source": [
        "score_3 = model.evaluate(x_test_vec,y_test_oh,batch_size=32,verbose=1)\r\n",
        "print(score_3[0])\r\n",
        "print(score_3[1]) "
      ],
      "execution_count": 69,
      "outputs": [
        {
          "output_type": "stream",
          "text": [
            "71/71 [==============================] - 0s 5ms/step - loss: 1.3309 - accuracy: 0.7992\n",
            "1.3309221267700195\n",
            "0.799198567867279\n"
          ],
          "name": "stdout"
        }
      ]
    },
    {
      "cell_type": "code",
      "metadata": {
        "colab": {
          "base_uri": "https://localhost:8080/",
          "height": 521
        },
        "id": "2ZR8Ium9SxhV",
        "outputId": "48a89e1d-39cd-4f89-aede-7cf9f89849ae"
      },
      "source": [
        "plt.figure(figsize=(7,7),dpi=80,facecolor='w',edgecolor='k')\r\n",
        "plt.plot(history.history['accuracy'],'-',color='r')\r\n",
        "plt.plot(history_2.history['accuracy'],'-.',color='b')\r\n",
        "plt.plot(history3.history['accuracy'],'--',color='g')\r\n",
        "plt.legend(['v1','v2','v3'],loc='upper left')\r\n",
        "plt.title(\"model acc\")\r\n",
        "plt.xlabel('epoch')\r\n",
        "plt.ylabel('acc')"
      ],
      "execution_count": 70,
      "outputs": [
        {
          "output_type": "execute_result",
          "data": {
            "text/plain": [
              "Text(0, 0.5, 'acc')"
            ]
          },
          "metadata": {
            "tags": []
          },
          "execution_count": 70
        },
        {
          "output_type": "display_data",
          "data": {
            "image/png": "[encoded data removed]",
            "text/plain": [
              "<Figure size 560x560 with 1 Axes>"
            ]
          },
          "metadata": {
            "tags": []
          }
        }
      ]
    },
    {
      "cell_type": "code",
      "metadata": {
        "colab": {
          "base_uri": "https://localhost:8080/",
          "height": 521
        },
        "id": "rYuQd0hpTL99",
        "outputId": "a83a0fc8-5ec9-48d3-cddc-e8a9365a99bc"
      },
      "source": [
        "plt.figure(figsize=(7,7),dpi=80,facecolor='w',edgecolor='k')\r\n",
        "plt.plot(history.history['val_accuracy'],'-',color='r')\r\n",
        "plt.plot(history_2.history['val_accuracy'],'-.',color='b')\r\n",
        "plt.plot(history3.history['val_accuracy'],'--',color='g')\r\n",
        "plt.legend(['v1','v2','v3'],loc='upper left')\r\n",
        "plt.title(\"model val acc\")\r\n",
        "plt.xlabel('epoch')\r\n",
        "plt.ylabel('acc')"
      ],
      "execution_count": 71,
      "outputs": [
        {
          "output_type": "execute_result",
          "data": {
            "text/plain": [
              "Text(0, 0.5, 'acc')"
            ]
          },
          "metadata": {
            "tags": []
          },
          "execution_count": 71
        },
        {
          "output_type": "display_data",
          "data": {
            "image/png": "[encoded data removed]",
            "text/plain": [
              "<Figure size 560x560 with 1 Axes>"
            ]
          },
          "metadata": {
            "tags": []
          }
        }
      ]
    },
    {
      "cell_type": "code",
      "metadata": {
        "id": "pgFzSMrLTYDt"
      },
      "source": [
        "from keras.layers import Embedding,LSTM\r\n",
        "from keras.optimizers import Adam\r\n",
        "from keras.preprocessing import sequence\r\n",
        "\r\n",
        "num_words=10000\r\n",
        "max_words=96\r\n",
        "batch_size=256\r\n",
        "epochs=30\r\n",
        "\r\n",
        "def get_lstm_model(input_shape):\r\n",
        "    inputs=Input(shape=(input_shape,))\r\n",
        "    inputs_emb=Embedding(num_words, input_shape)(inputs)\r\n",
        "    hidden2=LSTM(96,dropout=0.3,recurrent_dropout=0.3, return_sequences=False, activation='tanh')(inputs_emb)\r\n",
        "    outputs=Dense(46,activation='softmax')(hidden2)\r\n",
        "    model=Model(inputs,outputs)\r\n",
        "\r\n",
        "    return model\r\n"
      ],
      "execution_count": 77,
      "outputs": []
    },
    {
      "cell_type": "code",
      "metadata": {
        "colab": {
          "base_uri": "https://localhost:8080/"
        },
        "id": "KAZU6M8qsR1S",
        "outputId": "e179f99c-ce9a-4426-ae53-7ff6fee70e5d"
      },
      "source": [
        "(x_train,y_train),(x_test,y_test)=reuters.load_data(num_words=num_words,test_split=0.2)\r\n",
        "\r\n",
        "y_train_oh=to_categorical(y_train)\r\n",
        "y_test_oh=to_categorical(y_test)\r\n",
        "\r\n",
        "x_train_seq=sequence.pad_sequences(x_train, maxlen=max_words,padding='post',truncating='post')\r\n",
        "x_test_seq=sequence.pad_sequences(x_test,maxlen=max_words,padding='post',truncating='post')\r\n",
        "\r\n",
        "_adam=Adam(lr=0.001)\r\n",
        "\r\n",
        "model_v3=get_lstm_model(max_words)\r\n",
        "model_v3.compile(loss='categorical_crossentropy',optimizer=_adam,metrics=['accuracy'])\r\n",
        "model_v3.summary()"
      ],
      "execution_count": 79,
      "outputs": [
        {
          "output_type": "stream",
          "text": [
            "/usr/local/lib/python3.6/dist-packages/tensorflow/python/keras/datasets/reuters.py:148: VisibleDeprecationWarning: Creating an ndarray from ragged nested sequences (which is a list-or-tuple of lists-or-tuples-or ndarrays with different lengths or shapes) is deprecated. If you meant to do this, you must specify 'dtype=object' when creating the ndarray\n",
            "  x_train, y_train = np.array(xs[:idx]), np.array(labels[:idx])\n",
            "/usr/local/lib/python3.6/dist-packages/tensorflow/python/keras/datasets/reuters.py:149: VisibleDeprecationWarning: Creating an ndarray from ragged nested sequences (which is a list-or-tuple of lists-or-tuples-or ndarrays with different lengths or shapes) is deprecated. If you meant to do this, you must specify 'dtype=object' when creating the ndarray\n",
            "  x_test, y_test = np.array(xs[idx:]), np.array(labels[idx:])\n"
          ],
          "name": "stderr"
        },
        {
          "output_type": "stream",
          "text": [
            "Model: \"model_9\"\n",
            "_________________________________________________________________\n",
            "Layer (type)                 Output Shape              Param #   \n",
            "=================================================================\n",
            "input_11 (InputLayer)        [(None, 96)]              0         \n",
            "_________________________________________________________________\n",
            "embedding_2 (Embedding)      (None, 96, 96)            960000    \n",
            "_________________________________________________________________\n",
            "lstm_2 (LSTM)                (None, 96)                74112     \n",
            "_________________________________________________________________\n",
            "dense_14 (Dense)             (None, 46)                4462      \n",
            "=================================================================\n",
            "Total params: 1,038,574\n",
            "Trainable params: 1,038,574\n",
            "Non-trainable params: 0\n",
            "_________________________________________________________________\n"
          ],
          "name": "stdout"
        }
      ]
    },
    {
      "cell_type": "code",
      "metadata": {
        "colab": {
          "base_uri": "https://localhost:8080/"
        },
        "id": "yBAZRAxhtKm_",
        "outputId": "83459e93-0296-49f7-e904-b5f52c10d2e6"
      },
      "source": [
        "history_3=model_v3.fit(x_train_seq,y_train_oh,batch_size=batch_size,epochs=epochs,verbose=1,validation_split=0.1)"
      ],
      "execution_count": 80,
      "outputs": [
        {
          "output_type": "stream",
          "text": [
            "Epoch 1/30\n",
            "32/32 [==============================] - 24s 665ms/step - loss: 3.3811 - accuracy: 0.2825 - val_loss: 2.4424 - val_accuracy: 0.3348\n",
            "Epoch 2/30\n",
            "32/32 [==============================] - 21s 660ms/step - loss: 2.3714 - accuracy: 0.3555 - val_loss: 2.3215 - val_accuracy: 0.3904\n",
            "Epoch 3/30\n",
            "32/32 [==============================] - 21s 661ms/step - loss: 2.2147 - accuracy: 0.3859 - val_loss: 2.1163 - val_accuracy: 0.3660\n",
            "Epoch 4/30\n",
            "32/32 [==============================] - 21s 667ms/step - loss: 2.1200 - accuracy: 0.3791 - val_loss: 2.1039 - val_accuracy: 0.3960\n",
            "Epoch 5/30\n",
            "32/32 [==============================] - 21s 667ms/step - loss: 2.0079 - accuracy: 0.4250 - val_loss: 1.9682 - val_accuracy: 0.5128\n",
            "Epoch 6/30\n",
            "32/32 [==============================] - 21s 658ms/step - loss: 1.8943 - accuracy: 0.5152 - val_loss: 2.0027 - val_accuracy: 0.4494\n",
            "Epoch 7/30\n",
            "32/32 [==============================] - 21s 659ms/step - loss: 2.2745 - accuracy: 0.4027 - val_loss: 2.3567 - val_accuracy: 0.3571\n",
            "Epoch 8/30\n",
            "32/32 [==============================] - 21s 656ms/step - loss: 2.2347 - accuracy: 0.3835 - val_loss: 2.2318 - val_accuracy: 0.3682\n",
            "Epoch 9/30\n",
            "32/32 [==============================] - 21s 657ms/step - loss: 2.1024 - accuracy: 0.3932 - val_loss: 2.0994 - val_accuracy: 0.4071\n",
            "Epoch 10/30\n",
            "32/32 [==============================] - 21s 663ms/step - loss: 1.9749 - accuracy: 0.4773 - val_loss: 2.0423 - val_accuracy: 0.5028\n",
            "Epoch 11/30\n",
            "32/32 [==============================] - 21s 665ms/step - loss: 1.9630 - accuracy: 0.5081 - val_loss: 1.9497 - val_accuracy: 0.5250\n",
            "Epoch 12/30\n",
            "32/32 [==============================] - 21s 667ms/step - loss: 1.8531 - accuracy: 0.5222 - val_loss: 1.9260 - val_accuracy: 0.5006\n",
            "Epoch 13/30\n",
            "32/32 [==============================] - 21s 662ms/step - loss: 1.8245 - accuracy: 0.5125 - val_loss: 1.8963 - val_accuracy: 0.5195\n",
            "Epoch 14/30\n",
            "32/32 [==============================] - 21s 658ms/step - loss: 1.8151 - accuracy: 0.5157 - val_loss: 1.8894 - val_accuracy: 0.4961\n",
            "Epoch 15/30\n",
            "32/32 [==============================] - 21s 661ms/step - loss: 1.7671 - accuracy: 0.5301 - val_loss: 1.8811 - val_accuracy: 0.5339\n",
            "Epoch 16/30\n",
            "32/32 [==============================] - 21s 664ms/step - loss: 1.9774 - accuracy: 0.4686 - val_loss: 2.1019 - val_accuracy: 0.4127\n",
            "Epoch 17/30\n",
            "32/32 [==============================] - 21s 663ms/step - loss: 1.9821 - accuracy: 0.4235 - val_loss: 2.0620 - val_accuracy: 0.4049\n",
            "Epoch 18/30\n",
            "32/32 [==============================] - 21s 664ms/step - loss: 1.9493 - accuracy: 0.4332 - val_loss: 2.0381 - val_accuracy: 0.4227\n",
            "Epoch 19/30\n",
            "32/32 [==============================] - 21s 660ms/step - loss: 1.9053 - accuracy: 0.4531 - val_loss: 1.9924 - val_accuracy: 0.4327\n",
            "Epoch 20/30\n",
            "32/32 [==============================] - 21s 663ms/step - loss: 1.8398 - accuracy: 0.4729 - val_loss: 1.8998 - val_accuracy: 0.4672\n",
            "Epoch 21/30\n",
            "32/32 [==============================] - 21s 663ms/step - loss: 1.7369 - accuracy: 0.5118 - val_loss: 1.8351 - val_accuracy: 0.4905\n",
            "Epoch 22/30\n",
            "32/32 [==============================] - 21s 662ms/step - loss: 1.6549 - accuracy: 0.5604 - val_loss: 1.7857 - val_accuracy: 0.5573\n",
            "Epoch 23/30\n",
            "32/32 [==============================] - 21s 663ms/step - loss: 1.6312 - accuracy: 0.5679 - val_loss: 1.7462 - val_accuracy: 0.5428\n",
            "Epoch 24/30\n",
            "32/32 [==============================] - 21s 653ms/step - loss: 1.5643 - accuracy: 0.5922 - val_loss: 1.7376 - val_accuracy: 0.5473\n",
            "Epoch 25/30\n",
            "32/32 [==============================] - 21s 643ms/step - loss: 1.5397 - accuracy: 0.5992 - val_loss: 1.6982 - val_accuracy: 0.5406\n",
            "Epoch 26/30\n",
            "32/32 [==============================] - 20s 640ms/step - loss: 1.5282 - accuracy: 0.5953 - val_loss: 1.6634 - val_accuracy: 0.5729\n",
            "Epoch 27/30\n",
            "32/32 [==============================] - 21s 646ms/step - loss: 1.4489 - accuracy: 0.6270 - val_loss: 1.6099 - val_accuracy: 0.5951\n",
            "Epoch 28/30\n",
            "32/32 [==============================] - 21s 652ms/step - loss: 1.3525 - accuracy: 0.6431 - val_loss: 1.5706 - val_accuracy: 0.6018\n",
            "Epoch 29/30\n",
            "32/32 [==============================] - 21s 649ms/step - loss: 1.3239 - accuracy: 0.6433 - val_loss: 1.5730 - val_accuracy: 0.6096\n",
            "Epoch 30/30\n",
            "32/32 [==============================] - 21s 653ms/step - loss: 1.2409 - accuracy: 0.6599 - val_loss: 1.5240 - val_accuracy: 0.6107\n"
          ],
          "name": "stdout"
        }
      ]
    },
    {
      "cell_type": "code",
      "metadata": {
        "colab": {
          "base_uri": "https://localhost:8080/"
        },
        "id": "kuoAAFN1t_U7",
        "outputId": "4adb984d-f80e-43be-e241-1354d6e67af6"
      },
      "source": [
        "score_3= model_v3.evaluate(x_test_seq,y_test_oh,batch_size=32,verbose=1)\r\n",
        "np.round(score_3,3)"
      ],
      "execution_count": 84,
      "outputs": [
        {
          "output_type": "stream",
          "text": [
            "71/71 [==============================] - 2s 23ms/step - loss: 1.5086 - accuracy: 0.6202\n"
          ],
          "name": "stdout"
        },
        {
          "output_type": "execute_result",
          "data": {
            "text/plain": [
              "array([1.509, 0.62 ])"
            ]
          },
          "metadata": {
            "tags": []
          },
          "execution_count": 84
        }
      ]
    },
    {
      "cell_type": "code",
      "metadata": {
        "id": "K6Zf7ehdypDV"
      },
      "source": [
        "from keras.layers import Bidirectional\r\n",
        "def get_bilstm_model(input_shape):\r\n",
        "    inputs=Input(shape=(input_shape,))\r\n",
        "    inputs_emb=Embedding(num_words,input_shape)(inputs)\r\n",
        "    hidden=Bidirectional(LSTM(96,dropout=0.3,recurrent_dropout=0.3,return_sequences=False,activation='tanh'))(inputs_emb)\r\n",
        "    outputs=Dense(46,activation='softmax')(hidden)\r\n",
        "\r\n",
        "    model=Model(inputs,outputs)\r\n",
        "    return model"
      ],
      "execution_count": 85,
      "outputs": []
    },
    {
      "cell_type": "code",
      "metadata": {
        "colab": {
          "base_uri": "https://localhost:8080/"
        },
        "id": "wtIXo_uqzp92",
        "outputId": "274848de-18a4-4944-c392-811601de7fbd"
      },
      "source": [
        "model_v4=get_bilstm_model(max_words)\r\n",
        "model_v4.compile(loss='categorical_crossentropy',optimizer=_adam,metrics=['accuracy'])\r\n",
        "model_v4.summary()"
      ],
      "execution_count": 86,
      "outputs": [
        {
          "output_type": "stream",
          "text": [
            "Model: \"model_10\"\n",
            "_________________________________________________________________\n",
            "Layer (type)                 Output Shape              Param #   \n",
            "=================================================================\n",
            "input_12 (InputLayer)        [(None, 96)]              0         \n",
            "_________________________________________________________________\n",
            "embedding_3 (Embedding)      (None, 96, 96)            960000    \n",
            "_________________________________________________________________\n",
            "bidirectional (Bidirectional (None, 192)               148224    \n",
            "_________________________________________________________________\n",
            "dense_15 (Dense)             (None, 46)                8878      \n",
            "=================================================================\n",
            "Total params: 1,117,102\n",
            "Trainable params: 1,117,102\n",
            "Non-trainable params: 0\n",
            "_________________________________________________________________\n"
          ],
          "name": "stdout"
        }
      ]
    },
    {
      "cell_type": "code",
      "metadata": {
        "colab": {
          "base_uri": "https://localhost:8080/"
        },
        "id": "kiuvLlgnz506",
        "outputId": "65adcf2e-6ce0-429b-a495-83d184990f32"
      },
      "source": [
        "history_4=model_v4.fit(x_train_seq,y_train_oh,batch_size=batch_size,epochs=epochs,verbose=1,validation_split=0.1)"
      ],
      "execution_count": 87,
      "outputs": [
        {
          "output_type": "stream",
          "text": [
            "Epoch 1/30\n",
            "32/32 [==============================] - 46s 1s/step - loss: 2.9236 - accuracy: 0.3158 - val_loss: 1.7725 - val_accuracy: 0.5606\n",
            "Epoch 2/30\n",
            "32/32 [==============================] - 41s 1s/step - loss: 1.6068 - accuracy: 0.6066 - val_loss: 1.4028 - val_accuracy: 0.6630\n",
            "Epoch 3/30\n",
            "32/32 [==============================] - 41s 1s/step - loss: 1.2322 - accuracy: 0.7014 - val_loss: 1.2138 - val_accuracy: 0.7075\n",
            "Epoch 4/30\n",
            "32/32 [==============================] - 41s 1s/step - loss: 0.8851 - accuracy: 0.7848 - val_loss: 1.1103 - val_accuracy: 0.7364\n",
            "Epoch 5/30\n",
            "32/32 [==============================] - 41s 1s/step - loss: 0.7352 - accuracy: 0.8261 - val_loss: 1.0699 - val_accuracy: 0.7664\n",
            "Epoch 6/30\n",
            "32/32 [==============================] - 41s 1s/step - loss: 0.6034 - accuracy: 0.8576 - val_loss: 1.0344 - val_accuracy: 0.7631\n",
            "Epoch 7/30\n",
            "32/32 [==============================] - 42s 1s/step - loss: 0.4728 - accuracy: 0.8901 - val_loss: 1.0334 - val_accuracy: 0.7764\n",
            "Epoch 8/30\n",
            "32/32 [==============================] - 42s 1s/step - loss: 0.4048 - accuracy: 0.9070 - val_loss: 1.0189 - val_accuracy: 0.7720\n",
            "Epoch 9/30\n",
            "32/32 [==============================] - 41s 1s/step - loss: 0.3519 - accuracy: 0.9224 - val_loss: 1.0353 - val_accuracy: 0.7864\n",
            "Epoch 10/30\n",
            "32/32 [==============================] - 41s 1s/step - loss: 0.3099 - accuracy: 0.9256 - val_loss: 1.0930 - val_accuracy: 0.7753\n",
            "Epoch 11/30\n",
            "32/32 [==============================] - 41s 1s/step - loss: 0.2757 - accuracy: 0.9399 - val_loss: 1.0527 - val_accuracy: 0.7831\n",
            "Epoch 12/30\n",
            "32/32 [==============================] - 41s 1s/step - loss: 0.2297 - accuracy: 0.9474 - val_loss: 1.0561 - val_accuracy: 0.7786\n",
            "Epoch 13/30\n",
            "32/32 [==============================] - 45s 1s/step - loss: 0.2112 - accuracy: 0.9512 - val_loss: 1.0849 - val_accuracy: 0.7853\n",
            "Epoch 14/30\n",
            "32/32 [==============================] - 40s 1s/step - loss: 0.2131 - accuracy: 0.9495 - val_loss: 1.1242 - val_accuracy: 0.7864\n",
            "Epoch 15/30\n",
            "32/32 [==============================] - 40s 1s/step - loss: 0.1886 - accuracy: 0.9517 - val_loss: 1.1320 - val_accuracy: 0.7653\n",
            "Epoch 16/30\n",
            "32/32 [==============================] - 40s 1s/step - loss: 0.1693 - accuracy: 0.9552 - val_loss: 1.1318 - val_accuracy: 0.7798\n",
            "Epoch 17/30\n",
            "32/32 [==============================] - 42s 1s/step - loss: 0.1565 - accuracy: 0.9620 - val_loss: 1.1674 - val_accuracy: 0.7764\n",
            "Epoch 18/30\n",
            "32/32 [==============================] - 42s 1s/step - loss: 0.1514 - accuracy: 0.9561 - val_loss: 1.1761 - val_accuracy: 0.7753\n",
            "Epoch 19/30\n",
            "32/32 [==============================] - 42s 1s/step - loss: 0.1314 - accuracy: 0.9621 - val_loss: 1.2077 - val_accuracy: 0.7709\n",
            "Epoch 20/30\n",
            "32/32 [==============================] - 41s 1s/step - loss: 0.1321 - accuracy: 0.9622 - val_loss: 1.2136 - val_accuracy: 0.7809\n",
            "Epoch 21/30\n",
            "32/32 [==============================] - 42s 1s/step - loss: 0.1147 - accuracy: 0.9652 - val_loss: 1.1990 - val_accuracy: 0.7731\n",
            "Epoch 22/30\n",
            "32/32 [==============================] - 41s 1s/step - loss: 0.1137 - accuracy: 0.9617 - val_loss: 1.2102 - val_accuracy: 0.7798\n",
            "Epoch 23/30\n",
            "32/32 [==============================] - 41s 1s/step - loss: 0.1087 - accuracy: 0.9652 - val_loss: 1.2566 - val_accuracy: 0.7764\n",
            "Epoch 24/30\n",
            "32/32 [==============================] - 40s 1s/step - loss: 0.1008 - accuracy: 0.9676 - val_loss: 1.2618 - val_accuracy: 0.7664\n",
            "Epoch 25/30\n",
            "32/32 [==============================] - 40s 1s/step - loss: 0.0998 - accuracy: 0.9640 - val_loss: 1.2691 - val_accuracy: 0.7820\n",
            "Epoch 26/30\n",
            "32/32 [==============================] - 42s 1s/step - loss: 0.0957 - accuracy: 0.9652 - val_loss: 1.2743 - val_accuracy: 0.7675\n",
            "Epoch 27/30\n",
            "32/32 [==============================] - 42s 1s/step - loss: 0.0908 - accuracy: 0.9684 - val_loss: 1.2701 - val_accuracy: 0.7709\n",
            "Epoch 28/30\n",
            "32/32 [==============================] - 42s 1s/step - loss: 0.0907 - accuracy: 0.9687 - val_loss: 1.3472 - val_accuracy: 0.7586\n",
            "Epoch 29/30\n",
            "32/32 [==============================] - 42s 1s/step - loss: 0.0835 - accuracy: 0.9665 - val_loss: 1.2936 - val_accuracy: 0.7775\n",
            "Epoch 30/30\n",
            "32/32 [==============================] - 43s 1s/step - loss: 0.0893 - accuracy: 0.9642 - val_loss: 1.2873 - val_accuracy: 0.7675\n"
          ],
          "name": "stdout"
        }
      ]
    },
    {
      "cell_type": "code",
      "metadata": {
        "colab": {
          "base_uri": "https://localhost:8080/"
        },
        "id": "iGX5lpqr0KSg",
        "outputId": "60a02847-d6dc-4fbe-c26f-124f2f8ca0dc"
      },
      "source": [
        "score_4=model_v4.evaluate(x_test_seq,y_test_oh,batch_size=batch_size,verbose=1)\r\n",
        "print(np.round(score_4,3))"
      ],
      "execution_count": 88,
      "outputs": [
        {
          "output_type": "stream",
          "text": [
            "9/9 [==============================] - 2s 210ms/step - loss: 1.3076 - accuracy: 0.7756\n",
            "[1.308 0.776]\n"
          ],
          "name": "stdout"
        }
      ]
    },
    {
      "cell_type": "code",
      "metadata": {
        "id": "lhFMgbg16lLo"
      },
      "source": [
        "from keras.layers import Conv1D,MaxPooling1D\r\n",
        "\r\n",
        "def get_cnn_lstm_model(input_shape):\r\n",
        "    inputs=Input(shape=(input_shape,))\r\n",
        "    inputs_emb=Embedding(num_words, input_shape)(inputs)\r\n",
        "    conv1=Conv1D(48,3,padding='same',activation='relu')(inputs_emb)\r\n",
        "    pool1=MaxPooling1D(pool_size=3)(conv1)\r\n",
        "    drop=Dropout(0.25)(pool1)\r\n",
        "    lstm=Bidirectional(LSTM(48,dropout=0.3,recurrent_dropout=0.3,return_sequences=False,activation='tanh'))(drop)\r\n",
        "    outputs=Dense(46,activation='softmax')(lstm)\r\n",
        "\r\n",
        "    model=Model(inputs,outputs)\r\n",
        "\r\n",
        "    return model\r\n",
        "\r\n",
        "model_v5=get_cnn_lstm_model(max_words)\r\n"
      ],
      "execution_count": 91,
      "outputs": []
    },
    {
      "cell_type": "code",
      "metadata": {
        "colab": {
          "base_uri": "https://localhost:8080/"
        },
        "id": "gyWhtb9y70fG",
        "outputId": "5fe87302-775c-4238-bd2a-8e3332d7fe8d"
      },
      "source": [
        "model_v5.compile(loss='categorical_crossentropy',optimizer=_adam,metrics=['acc'])\r\n",
        "model_v5.summary()"
      ],
      "execution_count": 92,
      "outputs": [
        {
          "output_type": "stream",
          "text": [
            "Model: \"model_11\"\n",
            "_________________________________________________________________\n",
            "Layer (type)                 Output Shape              Param #   \n",
            "=================================================================\n",
            "input_13 (InputLayer)        [(None, 96)]              0         \n",
            "_________________________________________________________________\n",
            "embedding_4 (Embedding)      (None, 96, 96)            960000    \n",
            "_________________________________________________________________\n",
            "conv1d (Conv1D)              (None, 96, 48)            13872     \n",
            "_________________________________________________________________\n",
            "max_pooling1d (MaxPooling1D) (None, 32, 48)            0         \n",
            "_________________________________________________________________\n",
            "dropout_5 (Dropout)          (None, 32, 48)            0         \n",
            "_________________________________________________________________\n",
            "bidirectional_1 (Bidirection (None, 96)                37248     \n",
            "_________________________________________________________________\n",
            "dense_16 (Dense)             (None, 46)                4462      \n",
            "=================================================================\n",
            "Total params: 1,015,582\n",
            "Trainable params: 1,015,582\n",
            "Non-trainable params: 0\n",
            "_________________________________________________________________\n"
          ],
          "name": "stdout"
        }
      ]
    },
    {
      "cell_type": "code",
      "metadata": {
        "colab": {
          "base_uri": "https://localhost:8080/"
        },
        "id": "8h72mE288C2Q",
        "outputId": "e729053e-e27a-4460-9b23-c3776ac4e573"
      },
      "source": [
        "history_5 = model_v5.fit(x_train_seq,y_train_oh, epochs=epochs,batch_size=batch_size, verbose=1)\r\n"
      ],
      "execution_count": 94,
      "outputs": [
        {
          "output_type": "stream",
          "text": [
            "Epoch 1/30\n",
            "36/36 [==============================] - 14s 260ms/step - loss: 2.8245 - acc: 0.3546\n",
            "Epoch 2/30\n",
            "36/36 [==============================] - 9s 260ms/step - loss: 1.6590 - acc: 0.5852\n",
            "Epoch 3/30\n",
            "36/36 [==============================] - 10s 265ms/step - loss: 1.4339 - acc: 0.6560\n",
            "Epoch 4/30\n",
            "36/36 [==============================] - 9s 262ms/step - loss: 1.2047 - acc: 0.7120\n",
            "Epoch 5/30\n",
            "36/36 [==============================] - 10s 273ms/step - loss: 1.0309 - acc: 0.7480\n",
            "Epoch 6/30\n",
            "36/36 [==============================] - 10s 278ms/step - loss: 0.8466 - acc: 0.7867\n",
            "Epoch 7/30\n",
            "36/36 [==============================] - 10s 281ms/step - loss: 0.7686 - acc: 0.8121\n",
            "Epoch 8/30\n",
            "36/36 [==============================] - 10s 272ms/step - loss: 0.6764 - acc: 0.8360\n",
            "Epoch 9/30\n",
            "36/36 [==============================] - 10s 273ms/step - loss: 0.5928 - acc: 0.8559\n",
            "Epoch 10/30\n",
            "36/36 [==============================] - 10s 277ms/step - loss: 0.5176 - acc: 0.8763\n",
            "Epoch 11/30\n",
            "36/36 [==============================] - 10s 272ms/step - loss: 0.4808 - acc: 0.8839\n",
            "Epoch 12/30\n",
            "36/36 [==============================] - 10s 268ms/step - loss: 0.4307 - acc: 0.8994\n",
            "Epoch 13/30\n",
            "36/36 [==============================] - 10s 269ms/step - loss: 0.4035 - acc: 0.9084\n",
            "Epoch 14/30\n",
            "36/36 [==============================] - 10s 272ms/step - loss: 0.3668 - acc: 0.9113\n",
            "Epoch 15/30\n",
            "36/36 [==============================] - 10s 274ms/step - loss: 0.3566 - acc: 0.9178\n",
            "Epoch 16/30\n",
            "36/36 [==============================] - 10s 281ms/step - loss: 0.3097 - acc: 0.9270\n",
            "Epoch 17/30\n",
            "36/36 [==============================] - 10s 280ms/step - loss: 0.2939 - acc: 0.9361\n",
            "Epoch 18/30\n",
            "36/36 [==============================] - 10s 282ms/step - loss: 0.3080 - acc: 0.9265\n",
            "Epoch 19/30\n",
            "36/36 [==============================] - 10s 280ms/step - loss: 0.2655 - acc: 0.9388\n",
            "Epoch 20/30\n",
            "36/36 [==============================] - 10s 276ms/step - loss: 0.2513 - acc: 0.9388\n",
            "Epoch 21/30\n",
            "36/36 [==============================] - 9s 261ms/step - loss: 0.2388 - acc: 0.9432\n",
            "Epoch 22/30\n",
            "36/36 [==============================] - 9s 263ms/step - loss: 0.2292 - acc: 0.9435\n",
            "Epoch 23/30\n",
            "36/36 [==============================] - 9s 261ms/step - loss: 0.2162 - acc: 0.9491\n",
            "Epoch 24/30\n",
            "36/36 [==============================] - 9s 262ms/step - loss: 0.2095 - acc: 0.9506\n",
            "Epoch 25/30\n",
            "36/36 [==============================] - 9s 262ms/step - loss: 0.1866 - acc: 0.9518\n",
            "Epoch 26/30\n",
            "36/36 [==============================] - 9s 263ms/step - loss: 0.1905 - acc: 0.9528\n",
            "Epoch 27/30\n",
            "36/36 [==============================] - 9s 262ms/step - loss: 0.1917 - acc: 0.9501\n",
            "Epoch 28/30\n",
            "36/36 [==============================] - 9s 262ms/step - loss: 0.1965 - acc: 0.9502\n",
            "Epoch 29/30\n",
            "36/36 [==============================] - 9s 261ms/step - loss: 0.1868 - acc: 0.9516\n",
            "Epoch 30/30\n",
            "36/36 [==============================] - 9s 261ms/step - loss: 0.1704 - acc: 0.9545\n"
          ],
          "name": "stdout"
        }
      ]
    },
    {
      "cell_type": "code",
      "metadata": {
        "colab": {
          "base_uri": "https://localhost:8080/"
        },
        "id": "4nsIaz1I8Vfv",
        "outputId": "37ed6c4f-5875-48b9-893f-8afc678f30df"
      },
      "source": [
        "score_5=model_v5.evaluate(x_test_seq,y_test_oh,batch_size=batch_size,verbose=1)\r\n",
        "print(np.round(score_5,5))"
      ],
      "execution_count": 96,
      "outputs": [
        {
          "output_type": "stream",
          "text": [
            "9/9 [==============================] - 0s 41ms/step - loss: 1.2853 - acc: 0.7698\n",
            "[1.2853  0.76981]\n"
          ],
          "name": "stdout"
        }
      ]
    }
  ]
}