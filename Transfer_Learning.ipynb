{
  "nbformat": 4,
  "nbformat_minor": 0,
  "metadata": {
    "colab": {
      "name": "Transfer_Learning.ipynb",
      "provenance": [],
      "collapsed_sections": [],
      "mount_file_id": "1F7w8wmFzKfV8IUb3OwsNUgWRLYZOOpSS",
      "authorship_tag": "ABX9TyOwzsp6g/DGh3UQgbtVGj9h",
      "include_colab_link": true
    },
    "kernelspec": {
      "name": "python3",
      "display_name": "Python 3"
    }
  },
  "cells": [
    {
      "cell_type": "markdown",
      "metadata": {
        "id": "view-in-github",
        "colab_type": "text"
      },
      "source": [
        "<a href=\"https://colab.research.google.com/github/park-geun-hyeong/first_deeplearning_from_keras/blob/main/Transfer_Learning.ipynb\" target=\"_parent\"><img src=\"https://colab.research.google.com/assets/colab-badge.svg\" alt=\"Open In Colab\"/></a>"
      ]
    },
    {
      "cell_type": "markdown",
      "metadata": {
        "id": "PCEHPKnRqIZN"
      },
      "source": [
        "## Library import \r\n"
      ]
    },
    {
      "cell_type": "code",
      "metadata": {
        "id": "GNaJLraZoEck"
      },
      "source": [
        "import time \r\n",
        "import numpy as np\r\n",
        "import pandas as pd\r\n",
        "import matplotlib.pyplot as plt\r\n",
        "import seaborn as sns \r\n",
        "from PIL import Image\r\n",
        "import os\r\n",
        "import shutil\r\n",
        "from tqdm import tqdm\r\n",
        "\r\n",
        "import keras.backend as k\r\n",
        "from tensorflow.keras.applications.vgg16 import VGG16\r\n",
        "from tensorflow.keras.datasets import cifar100\r\n",
        "from tensorflow.keras.layers import Dense, Flatten,Conv2D,Dropout\r\n",
        "from tensorflow.keras.models import Model\r\n",
        "from tensorflow.keras.utils import to_categorical\r\n",
        "from tensorflow.keras.preprocessing.image import ImageDataGenerator\r\n",
        "from tensorflow.keras.optimizers import Adam\r\n",
        "\r\n"
      ],
      "execution_count": null,
      "outputs": []
    },
    {
      "cell_type": "markdown",
      "metadata": {
        "id": "UMhCofBnpTR8"
      },
      "source": [
        "## Flower image datasets from OxFord\r\n",
        "- 1360개의 Image(17개의 카테고리, 각각 80개씩)"
      ]
    },
    {
      "cell_type": "code",
      "metadata": {
        "id": "jFsYpDIcqUH0"
      },
      "source": [
        "path = \"/content/drive/MyDrive/keras_practice/CNN/Transfer_Learning\""
      ],
      "execution_count": null,
      "outputs": []
    },
    {
      "cell_type": "code",
      "metadata": {
        "colab": {
          "base_uri": "https://localhost:8080/",
          "height": 35
        },
        "id": "BGa3LHIBrQcb",
        "outputId": "4cfb26e0-57c5-4622-c8f2-c0d65e261b8b"
      },
      "source": [
        "os.chdir('/content')\r\n",
        "os.getcwd()"
      ],
      "execution_count": null,
      "outputs": [
        {
          "output_type": "execute_result",
          "data": {
            "application/vnd.google.colaboratory.intrinsic+json": {
              "type": "string"
            },
            "text/plain": [
              "'/content'"
            ]
          },
          "metadata": {
            "tags": []
          },
          "execution_count": 25
        }
      ]
    },
    {
      "cell_type": "markdown",
      "metadata": {
        "id": "lfliNO0TLU9_"
      },
      "source": [
        "- ImageDataGenerator를 사용하여 image를 나누기 위해 폴더별로 나누어 파일 이동"
      ]
    },
    {
      "cell_type": "code",
      "metadata": {
        "id": "l1SwK906zh21"
      },
      "source": [
        "img_list =sorted(os.listdir(path+'/oxford_flowers_17/17flowers/jpg'))  "
      ],
      "execution_count": null,
      "outputs": []
    },
    {
      "cell_type": "code",
      "metadata": {
        "id": "hd6miCEdUBuU"
      },
      "source": [
        "for i in range(17):\r\n",
        "    os.mkdir(path+'/oxford_flowers_17/flower_'+str(i+1))\r\n",
        "    "
      ],
      "execution_count": null,
      "outputs": []
    },
    {
      "cell_type": "code",
      "metadata": {
        "colab": {
          "base_uri": "https://localhost:8080/"
        },
        "id": "uH_MaThX9VvY",
        "outputId": "61b8601a-5646-48bc-f261-4e184d30df19"
      },
      "source": [
        "for i in tqdm(range(17)):\r\n",
        "    destination_path = path+'/oxford_flowers_17/flower_'+str(i+1)\r\n",
        "\r\n",
        "    for j in range(80):\r\n",
        "        file_name = path+'/oxford_flowers_17/17flowers/jpg/'+str(img_list[80*i+j])\r\n",
        "        shutil.copy(file_name,destination_path)\r\n",
        "\r\n"
      ],
      "execution_count": null,
      "outputs": [
        {
          "output_type": "stream",
          "text": [
            "\n",
            "  0%|          | 0/17 [00:00<?, ?it/s]\u001b[A\n",
            "  6%|▌         | 1/17 [00:00<00:07,  2.05it/s]\u001b[A\n",
            " 12%|█▏        | 2/17 [00:17<01:22,  5.51s/it]\u001b[A\n",
            " 18%|█▊        | 3/17 [00:57<03:42, 15.92s/it]\u001b[A\n",
            " 24%|██▎       | 4/17 [01:48<05:40, 26.22s/it]\u001b[A\n",
            " 29%|██▉       | 5/17 [02:43<06:59, 34.93s/it]\u001b[A\n",
            " 35%|███▌      | 6/17 [03:31<07:07, 38.89s/it]\u001b[A\n",
            " 41%|████      | 7/17 [04:22<07:05, 42.54s/it]\u001b[A\n",
            " 47%|████▋     | 8/17 [05:10<06:37, 44.14s/it]\u001b[A\n",
            " 53%|█████▎    | 9/17 [05:57<06:00, 45.01s/it]\u001b[A\n",
            " 59%|█████▉    | 10/17 [06:46<05:22, 46.05s/it]\u001b[A\n",
            " 65%|██████▍   | 11/17 [07:39<04:50, 48.43s/it]\u001b[A\n",
            " 71%|███████   | 12/17 [08:32<04:07, 49.52s/it]\u001b[A\n",
            " 76%|███████▋  | 13/17 [09:23<03:20, 50.02s/it]\u001b[A\n",
            " 82%|████████▏ | 14/17 [10:17<02:33, 51.21s/it]\u001b[A\n",
            " 88%|████████▊ | 15/17 [11:10<01:43, 51.87s/it]\u001b[A\n",
            " 94%|█████████▍| 16/17 [12:03<00:52, 52.17s/it]\u001b[A\n",
            "100%|██████████| 17/17 [12:56<00:00, 45.69s/it]\n"
          ],
          "name": "stderr"
        }
      ]
    },
    {
      "cell_type": "code",
      "metadata": {
        "colab": {
          "base_uri": "https://localhost:8080/"
        },
        "id": "vMlfpUn0LlIC",
        "outputId": "cb2f3bbd-38ef-4a18-8125-6e353fe8c98c"
      },
      "source": [
        "for i in range(17):\r\n",
        "    file_list = os.listdir(path+'/oxford_flowers_17/flower_'+str(i+1))\r\n",
        "    print(\"flower_\"+str(i+1)+' file_num : {}'.format(len(file_list)))"
      ],
      "execution_count": null,
      "outputs": [
        {
          "output_type": "stream",
          "text": [
            "flower_1 file_num : 80\n",
            "flower_2 file_num : 80\n",
            "flower_3 file_num : 80\n",
            "flower_4 file_num : 80\n",
            "flower_5 file_num : 80\n",
            "flower_6 file_num : 80\n",
            "flower_7 file_num : 80\n",
            "flower_8 file_num : 80\n",
            "flower_9 file_num : 80\n",
            "flower_10 file_num : 80\n",
            "flower_11 file_num : 80\n",
            "flower_12 file_num : 80\n",
            "flower_13 file_num : 80\n",
            "flower_14 file_num : 80\n",
            "flower_15 file_num : 80\n",
            "flower_16 file_num : 80\n",
            "flower_17 file_num : 80\n"
          ],
          "name": "stdout"
        }
      ]
    },
    {
      "cell_type": "markdown",
      "metadata": {
        "id": "igXw73yVM5ha"
      },
      "source": [
        "- ImageDataGenerator의 flow_from_directory 함수를 사용하여 폴더별로 label을 나누어서 train,validation datasets로 분리"
      ]
    },
    {
      "cell_type": "code",
      "metadata": {
        "colab": {
          "base_uri": "https://localhost:8080/"
        },
        "id": "r1kAkt1yGMHN",
        "outputId": "2a6d545e-43a0-44ab-a42d-bec302883257"
      },
      "source": [
        "CLASS_NUM = 17  ##\r\n",
        "BATCH_SIZE =16\r\n",
        "EPOCHS=14\r\n",
        "INPUT_SHAPE=(224,224,3)\r\n",
        "\r\n",
        "train_datagen = ImageDataGenerator(\r\n",
        "    rescale=1./255,\r\n",
        "    validation_split=0.1\r\n",
        ")\r\n",
        "\r\n",
        "train_generator = train_datagen.flow_from_directory(\r\n",
        "    path+'/oxford_flowers_17',\r\n",
        "    target_size=(224,224),\r\n",
        "    batch_size=BATCH_SIZE,\r\n",
        "    class_mode='categorical',\r\n",
        "    subset='training',\r\n",
        "    shuffle=True\r\n",
        ")\r\n",
        "\r\n",
        "val_generator = train_datagen.flow_from_directory(\r\n",
        "    path+'/oxford_flowers_17',\r\n",
        "    target_size=(224,224),\r\n",
        "    batch_size=BATCH_SIZE,\r\n",
        "    class_mode='categorical',\r\n",
        "    subset='validation',\r\n",
        "    shuffle=True\r\n",
        ") "
      ],
      "execution_count": null,
      "outputs": [
        {
          "output_type": "stream",
          "text": [
            "Found 1224 images belonging to 17 classes.\n",
            "Found 136 images belonging to 17 classes.\n"
          ],
          "name": "stdout"
        }
      ]
    },
    {
      "cell_type": "markdown",
      "metadata": {
        "id": "c94F1SqjMp-W"
      },
      "source": [
        "## resnet model import"
      ]
    },
    {
      "cell_type": "code",
      "metadata": {
        "id": "1nkCGxMgNXmx"
      },
      "source": [
        "from tensorflow.keras.applications.resnet_v2 import ResNet50V2\r\n",
        "\r\n",
        "#include_top = False로 지정시 클래스 분류할 수 있는 마지막 레이어를 포함하지 않고 모델을 불러오는 것이다.\r\n",
        "base_model_1 = ResNet50V2(include_top = False, weights='imagenet', input_shape=INPUT_SHAPE) \r\n",
        "base_model_2 = ResNet50V2(include_top = False, weights='imagenet', input_shape=INPUT_SHAPE)\r\n",
        "base_model_3 = ResNet50V2(include_top = False, weights='imagenet', input_shape=INPUT_SHAPE)"
      ],
      "execution_count": null,
      "outputs": []
    },
    {
      "cell_type": "markdown",
      "metadata": {
        "id": "woayaTFQNqSE"
      },
      "source": [
        "## resnet모델을 통해 비교해 보고자 하는 것 \r\n",
        "- ResNet50V2 model 전체 동결 ,Dense 레이어 추가\r\n",
        "- ResNet50V2 model 첫 번째 블록 미세조정, Dense 레이어 추가\r\n",
        "- ResNet50V2 model 마지막 블록 미세 조정, Dense 레이어 추가"
      ]
    },
    {
      "cell_type": "code",
      "metadata": {
        "id": "IJVfSLJMN2SZ"
      },
      "source": [
        "def create_model(base_model):\r\n",
        "    resnet = base_model.output ##resnet model을 베이스로 하여 베이스 모델의 출력 layer을 가져온다.\r\n",
        "    dropout = Dropout(0.3)(resnet)\r\n",
        "    y = Flatten()(dropout)\r\n",
        "    outputs =  Dense(CLASS_NUM, activation='softmax',kernel_initializer='he_normal',name='classification_layer')(y)\r\n",
        "\r\n",
        "    model = Model(base_model.input,outputs) #전체 model은 resnet의 입력레이어부터 우리가 생성한 Dense 레이어 까지.\r\n",
        "    return model \r\n",
        "\r\n",
        "model_1 = create_model(base_model_1)\r\n",
        "\r\n",
        "model_1.trainable=True\r\n",
        "\r\n",
        "set_trainable=False\r\n",
        "\r\n",
        "for layer in model_1.layers: ##모델의 레이어를 돌면서 classification_layer라는 이름의 레이러를 만나면 그 레이어부터는 학습하도록 만들어주기.\r\n",
        "    if layer.name == 'classificsation_layer':\r\n",
        "        set_trainable=True\r\n",
        "    if set_trainable:\r\n",
        "        layer.trainable=True\r\n",
        "    else:\r\n",
        "        layer.trainable = False\r\n",
        "\r\n",
        "model_1.summary()\r\n"
      ],
      "execution_count": null,
      "outputs": []
    },
    {
      "cell_type": "code",
      "metadata": {
        "id": "h7va4rWpWmEk"
      },
      "source": [
        "model_1.compile(loss='categorical_crossentropy',optimizer=Adam(lr=0.001), metrics=['acc'])"
      ],
      "execution_count": 62,
      "outputs": []
    },
    {
      "cell_type": "code",
      "metadata": {
        "id": "AvD1cUcARnBo",
        "colab": {
          "base_uri": "https://localhost:8080/"
        },
        "outputId": "bc431f97-c9aa-43e7-a926-68603e9d8ff9"
      },
      "source": [
        "history_1 = model_1.fit_generator(generator=train_generator, validation_data=val_generator, epochs=EPOCHS, verbose=1)"
      ],
      "execution_count": 63,
      "outputs": [
        {
          "output_type": "stream",
          "text": [
            "/usr/local/lib/python3.7/dist-packages/tensorflow/python/keras/engine/training.py:1844: UserWarning: `Model.fit_generator` is deprecated and will be removed in a future version. Please use `Model.fit`, which supports generators.\n",
            "  warnings.warn('`Model.fit_generator` is deprecated and '\n"
          ],
          "name": "stderr"
        },
        {
          "output_type": "stream",
          "text": [
            "Epoch 1/14\n",
            "77/77 [==============================] - 118s 1s/step - loss: 5.6128 - acc: 0.0538 - val_loss: 5.0010 - val_acc: 0.0441\n",
            "Epoch 2/14\n",
            "77/77 [==============================] - 114s 1s/step - loss: 5.6969 - acc: 0.0681 - val_loss: 5.0010 - val_acc: 0.0441\n",
            "Epoch 3/14\n",
            "77/77 [==============================] - 115s 1s/step - loss: 5.7038 - acc: 0.0443 - val_loss: 5.0010 - val_acc: 0.0441\n",
            "Epoch 4/14\n",
            "77/77 [==============================] - 114s 1s/step - loss: 5.7479 - acc: 0.0557 - val_loss: 5.0010 - val_acc: 0.0441\n",
            "Epoch 5/14\n",
            "77/77 [==============================] - 114s 1s/step - loss: 5.7160 - acc: 0.0555 - val_loss: 5.0010 - val_acc: 0.0441\n",
            "Epoch 6/14\n",
            "77/77 [==============================] - 114s 1s/step - loss: 5.7423 - acc: 0.0573 - val_loss: 5.0010 - val_acc: 0.0441\n",
            "Epoch 7/14\n",
            "77/77 [==============================] - 114s 1s/step - loss: 5.6939 - acc: 0.0570 - val_loss: 5.0010 - val_acc: 0.0441\n",
            "Epoch 8/14\n",
            "77/77 [==============================] - 114s 1s/step - loss: 5.6800 - acc: 0.0507 - val_loss: 5.0010 - val_acc: 0.0441\n",
            "Epoch 9/14\n",
            "77/77 [==============================] - 114s 1s/step - loss: 5.6123 - acc: 0.0497 - val_loss: 5.0010 - val_acc: 0.0441\n",
            "Epoch 10/14\n",
            "77/77 [==============================] - 114s 1s/step - loss: 5.4773 - acc: 0.0620 - val_loss: 5.0010 - val_acc: 0.0441\n",
            "Epoch 11/14\n",
            "77/77 [==============================] - 114s 1s/step - loss: 5.6718 - acc: 0.0641 - val_loss: 5.0010 - val_acc: 0.0441\n",
            "Epoch 12/14\n",
            "77/77 [==============================] - 114s 1s/step - loss: 5.6254 - acc: 0.0469 - val_loss: 5.0010 - val_acc: 0.0441\n",
            "Epoch 13/14\n",
            "77/77 [==============================] - 114s 1s/step - loss: 5.5516 - acc: 0.0505 - val_loss: 5.0010 - val_acc: 0.0441\n",
            "Epoch 14/14\n",
            "77/77 [==============================] - 114s 1s/step - loss: 5.6905 - acc: 0.0436 - val_loss: 5.0010 - val_acc: 0.0441\n"
          ],
          "name": "stdout"
        }
      ]
    },
    {
      "cell_type": "code",
      "metadata": {
        "id": "og59FtlsWkeZ"
      },
      "source": [
        "model_2 =create_model(base_model_2)\r\n",
        "model_3 =create_model(base_model_3)\r\n",
        "\r\n",
        "for layer in model_2.layers[0:16]:\r\n",
        "    layer.trainable=True\r\n",
        "for layer in model_2.layers[16:]:\r\n",
        "    layer.trainable=False  #16번째 layer까지만 학습에들어간다(data의 input에 가까운부분)\r\n",
        "\r\n",
        "for layer in model_3.layers[0:176]:\r\n",
        "    layer.trainable=False\r\n",
        "for layer in model_3.layers[176:]: #후반부 176번째 layer부터 학습에 들어간다 (출력에 가까운 부분 )\r\n",
        "    layer.trainable=True\r\n"
      ],
      "execution_count": 67,
      "outputs": []
    },
    {
      "cell_type": "code",
      "metadata": {
        "id": "dlvU2Tbied96"
      },
      "source": [
        "model_2.compile(loss='categorical_crossentropy', optimizer=Adam(lr=0.001), metrics=['acc'])\r\n",
        "model_3.compile(loss='categorical_crossentropy', optimizer=Adam(lr=0.001), metrics=['acc'])\r\n"
      ],
      "execution_count": 70,
      "outputs": []
    },
    {
      "cell_type": "code",
      "metadata": {
        "colab": {
          "base_uri": "https://localhost:8080/"
        },
        "id": "ZPY3EWFkdxw6",
        "outputId": "e983f806-ef1f-4a24-c21b-eff529624f17"
      },
      "source": [
        "history_2 = model_2.fit_generator(generator=train_generator, validation_data=val_generator, epochs=EPOCHS, verbose=1)"
      ],
      "execution_count": 71,
      "outputs": [
        {
          "output_type": "stream",
          "text": [
            "/usr/local/lib/python3.7/dist-packages/tensorflow/python/keras/engine/training.py:1844: UserWarning: `Model.fit_generator` is deprecated and will be removed in a future version. Please use `Model.fit`, which supports generators.\n",
            "  warnings.warn('`Model.fit_generator` is deprecated and '\n"
          ],
          "name": "stderr"
        },
        {
          "output_type": "stream",
          "text": [
            "Epoch 1/14\n",
            "77/77 [==============================] - 388s 5s/step - loss: 4.4980 - acc: 0.0521 - val_loss: 3.1260 - val_acc: 0.0882\n",
            "Epoch 2/14\n",
            "77/77 [==============================] - 383s 5s/step - loss: 3.2796 - acc: 0.0834 - val_loss: 2.8936 - val_acc: 0.0882\n",
            "Epoch 3/14\n",
            "77/77 [==============================] - 383s 5s/step - loss: 3.0315 - acc: 0.1289 - val_loss: 2.7664 - val_acc: 0.0735\n",
            "Epoch 4/14\n",
            "77/77 [==============================] - 383s 5s/step - loss: 2.9399 - acc: 0.1077 - val_loss: 2.6121 - val_acc: 0.1765\n",
            "Epoch 5/14\n",
            "77/77 [==============================] - 383s 5s/step - loss: 2.9459 - acc: 0.1027 - val_loss: 2.6427 - val_acc: 0.2059\n",
            "Epoch 6/14\n",
            "77/77 [==============================] - 384s 5s/step - loss: 2.7034 - acc: 0.1683 - val_loss: 2.6741 - val_acc: 0.2132\n",
            "Epoch 7/14\n",
            "77/77 [==============================] - 383s 5s/step - loss: 2.7113 - acc: 0.1503 - val_loss: 2.3760 - val_acc: 0.2426\n",
            "Epoch 8/14\n",
            "77/77 [==============================] - 383s 5s/step - loss: 2.6467 - acc: 0.1698 - val_loss: 2.4667 - val_acc: 0.2206\n",
            "Epoch 9/14\n",
            "77/77 [==============================] - 382s 5s/step - loss: 2.5348 - acc: 0.2037 - val_loss: 2.4167 - val_acc: 0.2426\n",
            "Epoch 10/14\n",
            "77/77 [==============================] - 385s 5s/step - loss: 2.4970 - acc: 0.1968 - val_loss: 2.3926 - val_acc: 0.2353\n",
            "Epoch 11/14\n",
            "77/77 [==============================] - 383s 5s/step - loss: 2.4620 - acc: 0.2197 - val_loss: 2.3497 - val_acc: 0.2500\n",
            "Epoch 12/14\n",
            "77/77 [==============================] - 382s 5s/step - loss: 2.4986 - acc: 0.2251 - val_loss: 2.2718 - val_acc: 0.2941\n",
            "Epoch 13/14\n",
            "77/77 [==============================] - 382s 5s/step - loss: 2.3657 - acc: 0.2647 - val_loss: 2.2695 - val_acc: 0.2868\n",
            "Epoch 14/14\n",
            "77/77 [==============================] - 382s 5s/step - loss: 2.4111 - acc: 0.2310 - val_loss: 2.3452 - val_acc: 0.3235\n"
          ],
          "name": "stdout"
        }
      ]
    },
    {
      "cell_type": "code",
      "metadata": {
        "colab": {
          "base_uri": "https://localhost:8080/"
        },
        "id": "GMVUYlZbdx_D",
        "outputId": "41915f33-e995-4ea8-b9d4-5e561e42f0bc"
      },
      "source": [
        "history_3 = model_3.fit_generator(generator=train_generator, validation_data=val_generator, epochs=EPOCHS, verbose=1)"
      ],
      "execution_count": 72,
      "outputs": [
        {
          "output_type": "stream",
          "text": [
            "/usr/local/lib/python3.7/dist-packages/tensorflow/python/keras/engine/training.py:1844: UserWarning: `Model.fit_generator` is deprecated and will be removed in a future version. Please use `Model.fit`, which supports generators.\n",
            "  warnings.warn('`Model.fit_generator` is deprecated and '\n"
          ],
          "name": "stderr"
        },
        {
          "output_type": "stream",
          "text": [
            "Epoch 1/14\n",
            "77/77 [==============================] - 148s 2s/step - loss: 2.5059 - acc: 0.5157 - val_loss: 5.6526 - val_acc: 0.7059\n",
            "Epoch 2/14\n",
            "77/77 [==============================] - 145s 2s/step - loss: 0.3003 - acc: 0.9381 - val_loss: 3.0007 - val_acc: 0.8162\n",
            "Epoch 3/14\n",
            "77/77 [==============================] - 145s 2s/step - loss: 0.2047 - acc: 0.9568 - val_loss: 1.8845 - val_acc: 0.8015\n",
            "Epoch 4/14\n",
            "77/77 [==============================] - 146s 2s/step - loss: 0.3828 - acc: 0.9384 - val_loss: 4.5296 - val_acc: 0.8015\n",
            "Epoch 5/14\n",
            "77/77 [==============================] - 145s 2s/step - loss: 0.6552 - acc: 0.9320 - val_loss: 9.7876 - val_acc: 0.7721\n",
            "Epoch 6/14\n",
            "77/77 [==============================] - 145s 2s/step - loss: 0.8856 - acc: 0.9144 - val_loss: 5.8686 - val_acc: 0.8456\n",
            "Epoch 7/14\n",
            "77/77 [==============================] - 145s 2s/step - loss: 0.3924 - acc: 0.9515 - val_loss: 5.3454 - val_acc: 0.8824\n",
            "Epoch 8/14\n",
            "77/77 [==============================] - 145s 2s/step - loss: 0.2730 - acc: 0.9699 - val_loss: 1.1447 - val_acc: 0.8897\n",
            "Epoch 9/14\n",
            "77/77 [==============================] - 146s 2s/step - loss: 0.2005 - acc: 0.9769 - val_loss: 1.1936 - val_acc: 0.9338\n",
            "Epoch 10/14\n",
            "77/77 [==============================] - 146s 2s/step - loss: 0.0962 - acc: 0.9854 - val_loss: 0.7674 - val_acc: 0.9191\n",
            "Epoch 11/14\n",
            "77/77 [==============================] - 146s 2s/step - loss: 0.2884 - acc: 0.9725 - val_loss: 2.2016 - val_acc: 0.8971\n",
            "Epoch 12/14\n",
            "77/77 [==============================] - 146s 2s/step - loss: 0.2006 - acc: 0.9739 - val_loss: 0.8725 - val_acc: 0.9118\n",
            "Epoch 13/14\n",
            "77/77 [==============================] - 146s 2s/step - loss: 0.1097 - acc: 0.9864 - val_loss: 2.2746 - val_acc: 0.8824\n",
            "Epoch 14/14\n",
            "77/77 [==============================] - 146s 2s/step - loss: 0.0869 - acc: 0.9857 - val_loss: 1.6118 - val_acc: 0.8971\n"
          ],
          "name": "stdout"
        }
      ]
    },
    {
      "cell_type": "markdown",
      "metadata": {
        "id": "aO_-diWEZYeK"
      },
      "source": [
        "## 각 model별 acc와 val_acc 그래프로 확인해보기"
      ]
    },
    {
      "cell_type": "code",
      "metadata": {
        "colab": {
          "base_uri": "https://localhost:8080/",
          "height": 717
        },
        "id": "yON0SqM2YH3c",
        "outputId": "56ba0995-6ddf-4dae-aab8-d0feb9c6b6ee"
      },
      "source": [
        "plt.figure(figsize=(12,5), dpi=80, facecolor='w', edgecolor='k')\r\n",
        "\r\n",
        "plt.plot(history_1.history['acc'][:14],'-',linewidth=2)\r\n",
        "plt.plot(history_2.history['acc'][:14],'-.',linewidth=2)\r\n",
        "plt.plot(history_3.history['acc'][:14],'--',linewidth=2)\r\n",
        "plt.xlabel('epochs')\r\n",
        "plt.ylabel('acc')\r\n",
        "plt.legend(['v1','v2','v3'],loc='upper left')\r\n",
        "plt.show()\r\n",
        "\r\n",
        "plt.figure(figsize=(12,5), dpi=80, facecolor='w', edgecolor='k')\r\n",
        "\r\n",
        "plt.plot(history_1.history['val_acc'][:14],'-',linewidth=2)\r\n",
        "plt.plot(history_2.history['val_acc'][:14],'-.',linewidth=2)\r\n",
        "plt.plot(history_3.history['val_acc'][:14],'--',linewidth=2)\r\n",
        "plt.xlabel('epochs')\r\n",
        "plt.ylabel('val_acc')\r\n",
        "plt.legend(['v1','v2','v3'],loc='upper left')\r\n",
        "plt.show()"
      ],
      "execution_count": 76,
      "outputs": [
        {
          "output_type": "display_data",
          "data": {
            "image/png": "[encoded data removed]",
            "text/plain": [
              "<Figure size 960x400 with 1 Axes>"
            ]
          },
          "metadata": {
            "tags": []
          }
        },
        {
          "output_type": "display_data",
          "data": {
            "image/png": "[encoded data removed]",
            "text/plain": [
              "<Figure size 960x400 with 1 Axes>"
            ]
          },
          "metadata": {
            "tags": []
          }
        }
      ]
    },
    {
      "cell_type": "markdown",
      "metadata": {
        "id": "C9i-k0cQZm2h"
      },
      "source": [
        "## Conclusion\r\n",
        "- 첫번째 model: 완전연결 레이어를 마지막에 연결, 좋지않는 성능\r\n",
        "- 두번쨰 mdoel: 모델 앞부분의 특징을 바꾸는 것은 성능이 좋지 않게 나왔다.\r\n",
        "- 세번째 model: 마지막 블록을 학습한 모델의 acc가 가장 좋게 나왔다(Transfer_learning의 장점)<br>\r\n",
        "\r\n",
        "<p>-이렇게 미세조정한 모델들은 이제 꽃을 분류하는 모델로 미세조정 학습이 되었다.<br>\r\n",
        "resnet모델은 1000개의 클래스를 분류하는 거대 imageset으로 학습하여 범용적인 성능을 갖고 있다.<br>\r\n",
        "재학습을 통해 미세조정하면 현재 문제에는 적합하게 모델 학습되지만 범용적 성능은 조금씩 잃어버릴 것이다. <br> 즉 모든 경우에 완벽한 모델을 만드는 답은 존재하지 않는다.</p>"
      ]
    }
  ]
}